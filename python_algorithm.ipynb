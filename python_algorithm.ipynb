{
 "cells": [
  {
   "cell_type": "markdown",
   "metadata": {},
   "source": [
    "<h1>파이썬 알고리즘 정리</h1>"
   ]
  },
  {
   "cell_type": "markdown",
   "metadata": {},
   "source": [
    "<h2>Divide and Conquer</h2>"
   ]
  },
  {
   "cell_type": "markdown",
   "metadata": {},
   "source": [
    "* 문제를 작은 단위로 나누고 해결하는 방법\n",
    "* Divide + Conquer + Merge\n",
    "* Subproblem이 전체 문제에 비해 크기가 작을 때 유리(ex : N times -> N/2 times -> N/4 times ...)"
   ]
  },
  {
   "cell_type": "markdown",
   "metadata": {},
   "source": [
    "<h3>1. Binary Search(이진탐색) : 정렬된 리스트에서 특정 값의 위치를 찾는 알고리즘</h3>\n"
   ]
  },
  {
   "cell_type": "markdown",
   "metadata": {},
   "source": [
    "* Recursive implementation"
   ]
  },
  {
   "cell_type": "code",
   "execution_count": 1,
   "metadata": {},
   "outputs": [
    {
     "name": "stdout",
     "output_type": "stream",
     "text": [
      "3\n"
     ]
    }
   ],
   "source": [
    "def binarySearch(arr, l, r, x):\n",
    "    \n",
    "    if r >= l:                                              # base case : 오른쪽 인덱스가 왼쪽 인덱스보다 커야 함. 그렇지 않으면 -1을 리턴\n",
    "        mid = l + (r - 1) // 2                              # 가운데 위치를 계산\n",
    "\n",
    "        if arr[mid] == x:                                   # 찾는 값이 가운데에 있으면\n",
    "            return mid                                      # mid 인덱스를 반환\n",
    "        \n",
    "        elif arr[mid] > x:                                  # 찾는 값이 중간값보다 작으면\n",
    "            return binarySearch(arr, l, mid-1, x)           # 왼쪽 배열에서 다시 탐색을 진행\n",
    "        \n",
    "        else:                                               # 찾는 값이 중간값보다 크면\n",
    "            return binarySearch(arr, mid+1, r, x)           # 오른쪽 배열에서 다시 탐색을 진행\n",
    "    \n",
    "    else:\n",
    "        return -1\n",
    "\n",
    "\n",
    "# driver code\n",
    "arr = [2,3,4,10,40]\n",
    "x = 10\n",
    "\n",
    "print(binarySearch(arr, 0, len(arr)-1, x))                  # 3"
   ]
  },
  {
   "cell_type": "markdown",
   "metadata": {},
   "source": [
    "* Iteravive implementation"
   ]
  },
  {
   "cell_type": "code",
   "execution_count": 2,
   "metadata": {},
   "outputs": [
    {
     "name": "stdout",
     "output_type": "stream",
     "text": [
      "3\n"
     ]
    }
   ],
   "source": [
    "def binarySearch_iter(arr, l, r, x):\n",
    "    \n",
    "    while l <= r:\n",
    "        mid = l + (r-1) // 2\n",
    "\n",
    "        if arr[mid] == x:\n",
    "            return mid\n",
    "        \n",
    "        elif arr[mid] > x:\n",
    "            r = mid - 1                                 # 함수 호출 없이 인덱스를 이동\n",
    "        \n",
    "        else:\n",
    "            l = mid + 1                                 # 함수 호출 없이 인덱스를 이동\n",
    "    \n",
    "    return -1\n",
    "\n",
    "# driver code\n",
    "arr = [2,3,4,10,40]\n",
    "x = 10\n",
    "\n",
    "print(binarySearch_iter(arr, 0, len(arr)-1, x))         # 3"
   ]
  },
  {
   "cell_type": "markdown",
   "metadata": {},
   "source": [
    "<h3>2. Merge Sort(합병정렬) : 리스트 정렬 알고리즘 - divde -> sort -> merge</h3>"
   ]
  },
  {
   "cell_type": "code",
   "execution_count": 4,
   "metadata": {},
   "outputs": [
    {
     "name": "stdout",
     "output_type": "stream",
     "text": [
      "[5, 6, 7, 11, 12, 13]\n"
     ]
    }
   ],
   "source": [
    "def mergeSort(arr):\n",
    "    \n",
    "    if len(arr) > 1:                            # base case : 배열의 길이가 1보다 길어야 함\n",
    "        mid = len(arr) // 2                     # mid인덱스 계산\n",
    "        l = arr[:mid]                           # 왼쪽 배열 생성\n",
    "        r = arr[mid:]                           # 오른쪽 배열 생성\n",
    "\n",
    "        mergeSort(l)                            # 왼쪽 배열 정렬\n",
    "        mergeSort(r)                            # 오른쪽 배열 정렬\n",
    "\n",
    "        i = j = k = 0                           # 인덱스 초기화\n",
    "\n",
    "        # merge\n",
    "        while i < len(l) and j < len(r):        # 양쪽 배열 모두 남아있으면\n",
    "            if l[i] < r[j]:                     # 왼쪽 값이 오른쪽 값보다 작으면\n",
    "                arr[k] = l[i]                   # 왼쪽 값을 배열에 넣음\n",
    "                i += 1\n",
    "            else:                               # 오른쪽 값이 더 작으면\n",
    "                arr[k] = r[j]                   # 오른쪽 값을 배열에 넣음\n",
    "                j += 1\n",
    "            k += 1\n",
    "\n",
    "        while i < len(l):                       # 왼쪽 배열에 남아있는게 있으면\n",
    "            arr[k] = l[i]                       # 배열에 하나씩 넣음\n",
    "            i += 1\n",
    "            k += 1\n",
    "        \n",
    "        while j < len(r):                       # 오른쪽 배열에 남아있는게 있으면\n",
    "            arr[k] = r[j]                       # 배열에 하나씩 넣음\n",
    "            j += 1\n",
    "            k += 1\n",
    "            \n",
    "\n",
    "# driver code\n",
    "arr = [12,11,5,13,6,7]\n",
    "mergeSort(arr)\n",
    "print(arr)                                      # [5,6,7,11,12,13]"
   ]
  },
  {
   "cell_type": "markdown",
   "metadata": {},
   "source": [
    "<h3>3. Quick Sort(퀵 정렬) : 리스트 정렬 알고리즘 - pivot기준</h3>"
   ]
  },
  {
   "cell_type": "code",
   "execution_count": 10,
   "metadata": {},
   "outputs": [
    {
     "name": "stdout",
     "output_type": "stream",
     "text": [
      "[1, 5, 7, 8, 9, 10]\n"
     ]
    }
   ],
   "source": [
    "def partition(array, low, high):\n",
    "    \n",
    "    pivot = array[high]                                             # 가장 마지막 값으로 pivot을 설정\n",
    "    i = low - 1\n",
    "\n",
    "    for j in range(low, high):                                      # array를 돌면서\n",
    "        if array[j] <= pivot:                                       # pivot보다 작은 값이 있으면\n",
    "            i += 1\n",
    "            (array[i], array[j]) = (array[j], array[i])             # 앞쪽으로 swap\n",
    "\n",
    "    (array[i+1], array[high]) = (array[high], array[i+1])           # pivot의 값을 가운데로 swap\n",
    "    return i + 1\n",
    "\n",
    "\n",
    "def quickSort(array, low, high):\n",
    "\n",
    "    if low < high:                                                  # base case : array에 하나 이상의 숫자가 존재\n",
    "        pi = partition(array, low, high)                            # pivot을 기준으로 왼쪽을 pivot보다 작게, 오른쪽은 pivot보다 크게 분할  - divide\n",
    "        quickSort(array, low, pi - 1)                               # 왼쪽 array에 대해서 반복                                          - conquer\n",
    "        quickSort(array, pi + 1, high)                              # 오른쪽 array에 대해서 반복                                        -conquer\n",
    "\n",
    "\n",
    "# driver code\n",
    "array = [10,7,8,9,1,5]\n",
    "quickSort(array, 0, len(array) - 1)\n",
    "print(array)                                                        # [1,5,7,8,9,10]"
   ]
  },
  {
   "cell_type": "markdown",
   "metadata": {},
   "source": [
    "<h2>Dynamic Programming</h2>"
   ]
  },
  {
   "cell_type": "markdown",
   "metadata": {},
   "source": [
    "* Subproblem이 전체문제와 크기가 비슷할 때(D&C가 비효율적일때)(ex : N times -> N-1 times -> N-2 times ...) or Subproblem에 중복이 발생할 때 유리(ex : x5 = x3 + x4, x4 = x3 + x2 ...)\n",
    "* 하나의 문제는 한번만 풀도록 하는 알고리즘\n",
    "* Bottom up, Save and Reuse(lookup), clever enumeration\n",
    "* 예시를 통해 수학적 표현을 얻고(recursion) 반복문을 통해 테이블을 채워나가는 방식\n",
    "* Principle of optimality : optimal substructure(subproblem에서의 답은 original problem에서도 동일하다)"
   ]
  },
  {
   "cell_type": "markdown",
   "metadata": {},
   "source": [
    "<h3>1. Fibonacci(피보나치 수열) : fib(n) = fib(n-1) + fib(n-2)</h3>"
   ]
  },
  {
   "cell_type": "markdown",
   "metadata": {},
   "source": [
    "* Recursive implementation(D&C)"
   ]
  },
  {
   "cell_type": "code",
   "execution_count": 11,
   "metadata": {},
   "outputs": [
    {
     "data": {
      "text/plain": [
       "34"
      ]
     },
     "execution_count": 11,
     "metadata": {},
     "output_type": "execute_result"
    }
   ],
   "source": [
    "def Fibonacci(n):\n",
    "    if n < 0:                                       # base code : n은 0 이상\n",
    "        return -1\n",
    "    \n",
    "    elif n == 0 :\n",
    "        return 0\n",
    "    \n",
    "    elif n == 1 or n == 2:\n",
    "        return 1\n",
    "    \n",
    "    else:\n",
    "        return Fibonacci(n-1) + Fibonacci(n-2)      # recursive call\n",
    "\n",
    "# driver code\n",
    "Fibonacci(9)                                        # 34"
   ]
  },
  {
   "cell_type": "markdown",
   "metadata": {},
   "source": [
    "* Dynamic Programing"
   ]
  },
  {
   "cell_type": "code",
   "execution_count": 12,
   "metadata": {},
   "outputs": [
    {
     "data": {
      "text/plain": [
       "34"
      ]
     },
     "execution_count": 12,
     "metadata": {},
     "output_type": "execute_result"
    }
   ],
   "source": [
    "FibArray = [0,1]                                            # lookup table\n",
    "\n",
    "def fibonacci(n):\n",
    "\n",
    "    if n < 0:\n",
    "        return -1\n",
    "    \n",
    "    elif n < len(FibArray):                                 # table에 값이 있으면 reuse\n",
    "        return FibArray[n]\n",
    "\n",
    "    else:\n",
    "        FibArray.append(fibonacci(n-1) + fibonacci(n-2))    # table에 값이 없으면 save\n",
    "        return FibArray[n]\n",
    "\n",
    "# driver code\n",
    "fibonacci(9)                                                # 34"
   ]
  },
  {
   "cell_type": "markdown",
   "metadata": {},
   "source": [
    "* Space optimized(DP)"
   ]
  },
  {
   "cell_type": "code",
   "execution_count": 13,
   "metadata": {},
   "outputs": [
    {
     "data": {
      "text/plain": [
       "34"
      ]
     },
     "execution_count": 13,
     "metadata": {},
     "output_type": "execute_result"
    }
   ],
   "source": [
    "def fibonacci_opt(n):\n",
    "    a = 0\n",
    "    b = 1\n",
    "\n",
    "    if n < 0:\n",
    "        return -1\n",
    "        \n",
    "    elif n == 0:\n",
    "        return a\n",
    "    elif n == 1:\n",
    "        return b\n",
    "\n",
    "    else:\n",
    "        for i in range(1, n):                               # 1 ~ n까지 bottom up으로 계산\n",
    "            c = a + b\n",
    "            a = b\n",
    "            b = c\n",
    "        return b\n",
    "\n",
    "# driver code\n",
    "fibonacci_opt(9)                                            # 34"
   ]
  },
  {
   "cell_type": "markdown",
   "metadata": {},
   "source": [
    "<h3>2. Binomial Coefficient(이항계수) : (n,k) = (n-1,k-1) + (n-1,k)</h3>"
   ]
  },
  {
   "cell_type": "code",
   "execution_count": 14,
   "metadata": {},
   "outputs": [
    {
     "data": {
      "text/plain": [
       "10"
      ]
     },
     "execution_count": 14,
     "metadata": {},
     "output_type": "execute_result"
    }
   ],
   "source": [
    "def binomialCoef(n,k):\n",
    "    C = [[0 for x in range(k+1)]for x in range(n+1)]    # lookup table 초기화\n",
    "\n",
    "    for i in range(n+1):                                # table을 채워나감\n",
    "        for j in range(min(i, k)+1):\n",
    "            if j == 0 or j == i:\n",
    "                C[i][j] = 1\n",
    "            else:\n",
    "                C[i][j] = C[i-1][j-1] + C[i-1][j]\n",
    "    \n",
    "    return C[n][k]                                      # 최종 계산결과 반환\n",
    "\n",
    "# driver code\n",
    "n, k = 5, 2\n",
    "binomialCoef(n,k)                                           # 10"
   ]
  },
  {
   "cell_type": "markdown",
   "metadata": {},
   "source": [
    "<h3>3. Chained Matrix Multiplication(연쇄행렬 최소곱셈) : 주어진 행렬들의 곱을 최소의 연산으로 수행하는 최소 횟수를 구하는 알고리즘</h3>"
   ]
  },
  {
   "cell_type": "markdown",
   "metadata": {},
   "source": [
    "* M[i,j] = min(M[i,k] + M[k+1,j] + C(i-1)*C(k)*C(j)) for i<= k<=j-1, M[i,i] = 0"
   ]
  },
  {
   "cell_type": "code",
   "execution_count": 15,
   "metadata": {},
   "outputs": [
    {
     "data": {
      "text/plain": [
       "18"
      ]
     },
     "execution_count": 15,
     "metadata": {},
     "output_type": "execute_result"
    }
   ],
   "source": [
    "maxint = int(1e9+7)\n",
    "\n",
    "def MatrixChainOrder(p,n):\n",
    "    m = [[0 for x in range(n)] for x in range(n)]           # lookup table 초기화\n",
    "\n",
    "    for i in range(n):\n",
    "        m[i][i] = 0                                         # 자기자신과의 곱셈은 0\n",
    "    \n",
    "    for L in range(2,n):                                    # L = matrix chain의 길이\n",
    "        for i in range(1, n-L + 1):\n",
    "            j = i + L-1\n",
    "            m[i][j] = maxint                                # i번째 matrix부터 j번째 matrix까지의 곱셈횟수를 maxint값으로 초기화\n",
    "\n",
    "            for k in range(i,j):                            # 중간에 나눌 곳을 이동하면서\n",
    "                q = m[i][k] + m[k+1][j] + p[i-1]*p[k]*p[j]  # 곱셈 횟수를 계산\n",
    "                if q < m[i][j]:                             # 현재값보다 적은 횟수가 가능하면\n",
    "                    m[i][j] = q                             # 값을 교체해서 save\n",
    "    \n",
    "    return m[1][n-1]                                        # 최종 계산결과를 반환\n",
    "\n",
    "# driver code\n",
    "arr = [1,2,3,4]\n",
    "MatrixChainOrder(arr, len(arr))                             # 18"
   ]
  },
  {
   "cell_type": "markdown",
   "metadata": {},
   "source": [
    " <h3>4. Floyd Warshall Algorithm : 그래프에서 가능한 모든 노드 쌍에 대해 최단 거리를 구하는 알고리즘</h3>"
   ]
  },
  {
   "cell_type": "markdown",
   "metadata": {},
   "source": [
    "* D(k)[i,j] = min(D(k-1)[i,j], D(k-1)[i,k]+D(k-1)[i,j]) : i~j까지의 최단거리 = k를 경유하지 않는 경우와 k를 경유하는 경우 중 작은 값"
   ]
  },
  {
   "cell_type": "code",
   "execution_count": 20,
   "metadata": {},
   "outputs": [
    {
     "name": "stdout",
     "output_type": "stream",
     "text": [
      "[[0, 5, 8, 9], [99999, 0, 3, 4], [99999, 99999, 0, 1], [99999, 99999, 99999, 0]]\n"
     ]
    }
   ],
   "source": [
    "V = 4\n",
    "INF = 99999\n",
    "\n",
    "def floydWarshall(graph):\n",
    "    dist = graph.copy()                                                     # lookup table 초기화 (=graph)\n",
    "\n",
    "    for k in range(V):                                                      # 경유할 노드를 돌면서\n",
    "        for i in range(V):                                                  # 출발지부터\n",
    "            for j in range(V):                                              # 도착지까지\n",
    "                dist[i][j] = min(dist[i][j], dist[i][k] + dist[k][j])       # 최단거리를 계산하여 save\n",
    "    \n",
    "    print(dist)\n",
    "\n",
    "# driver code\n",
    "graph = [[0,5,INF,10],                                                      #         10\n",
    "         [INF,0,3,INF],                                                     #   (0) ------> (3) \n",
    "         [INF,INF,0,1],                                                     #    |          /|\\\n",
    "         [INF,INF,INF,0]]                                                   #  5 |           | 1\n",
    "                                                                            #   \\|/          |\n",
    "                                                                            #   (1) ------> (2)\n",
    "                                                                            #          3\n",
    "\n",
    "floydWarshall(graph)                                                        # [0,5,8,9],[INF,0,3,4],[INF,INF,0,1],[INF,INF,INF,0]"
   ]
  },
  {
   "cell_type": "markdown",
   "metadata": {},
   "source": [
    "<h3>5. Bellman Ford Algorithm : 한 노드에서 다른 노드까지의 최단거리를 구하는 알고리즘(nagative edge 포함)</h3>"
   ]
  },
  {
   "cell_type": "markdown",
   "metadata": {},
   "source": [
    "* 매번 전체 간선을 하나씩 확인하면서 최단거리 테이블을 갱신\n",
    "* 동일 과정을 반복했을 때 값이 줄어들면 neagative cycle이 존재"
   ]
  },
  {
   "cell_type": "code",
   "execution_count": 21,
   "metadata": {},
   "outputs": [
    {
     "name": "stdout",
     "output_type": "stream",
     "text": [
      "[0, -1, 2, -2, 1]\n"
     ]
    }
   ],
   "source": [
    "class Graph:\n",
    "\n",
    "    def __init__(self, vertices):                                           # 그래프 생성\n",
    "        self.V = vertices\n",
    "        self.graph = []\n",
    "    \n",
    "    def addEdge(self, u, v, w):                                             # 간선 추가\n",
    "        self.graph.append([u,v,w])\n",
    "    \n",
    "    def BellmanFord(self, src):\n",
    "        dist = [float('Inf')] * self.V                                      # lookup table 초기화\n",
    "        dist[src] = 0                                                       # 출발지까지의 거리 = 0\n",
    "\n",
    "        for _ in range(self.V - 1):                                         # 각 노드까지\n",
    "            for u,v,w in self.graph:                                        # 모든 간선을 조사\n",
    "                if dist[u] != float('Inf') and dist[u] + w < dist[v]:       # 간선이 존재하고 이 간선을 지나가는 것이 더 거리가 짧다면\n",
    "                    dist[v] = dist[u] + w                                   # lookup table에 값을 save\n",
    "        \n",
    "        for u,v,w in self.graph:                                            # negative cycle 검사\n",
    "            if dist[u] != float('Inf') and dist[u] + w < dist[v]:           # 최단거리 계산 이후 간선을 추가했을 때 값이 더 줄어들면 negative cycle이 존재한다고 판단\n",
    "                return -1\n",
    "        \n",
    "        print(dist)\n",
    "\n",
    "# driver code\n",
    "graph = [[0,1,-1],\n",
    "         [0,2,4],            \n",
    "         [1,2,3], \n",
    "         [1,3,2], \n",
    "         [1,4,2], \n",
    "         [3,2,5], \n",
    "         [3,1,1], \n",
    "         [4,3,-3]]\n",
    "\n",
    "g = Graph(5)\n",
    "for u,v,w in graph:\n",
    "    g.addEdge(u,v,w)\n",
    "\n",
    "g.BellmanFord(0)                                                            # [0,-1,2,-2,1]"
   ]
  },
  {
   "cell_type": "markdown",
   "metadata": {},
   "source": [
    "<h3>6. 0/1 Knapsack(배낭문제) : 조합 최적화 문제</h3>"
   ]
  },
  {
   "cell_type": "markdown",
   "metadata": {},
   "source": [
    "* 한정된 무게를 담을 수 있는 배낭에 담을 수 있는 최대 가치의 물건 조합을 찾는 문제\n",
    "* P[i,w] = max(P[i-1,w], P[i-1,w-w(i)]+p(i)) : 무게w에서의 배낭의 최대 가치 = i번째 물건을 담지 않았을 때의 가치와 i번째 물건을 담았을 때 배낭의 가치 중 최댓값"
   ]
  },
  {
   "cell_type": "code",
   "execution_count": 22,
   "metadata": {},
   "outputs": [
    {
     "data": {
      "text/plain": [
       "220"
      ]
     },
     "execution_count": 22,
     "metadata": {},
     "output_type": "execute_result"
    }
   ],
   "source": [
    "def knapSack(W, wt, val, n):\n",
    "    K = [[0 for x in range(W+1)] for x in range(n+1)]                   # lookup table 초기화(n * W)\n",
    "\n",
    "    for i in range(n+1):\n",
    "        for w in range(W+1):                                            # table을 돌면서\n",
    "            if i == 0 or w == 0:\n",
    "                K[i][w] = 0\n",
    "            elif wt[i-1] <= w:                                          # 물건의 무게가 여유공간보다 작으면(w : 배낭의 여유공간)\n",
    "                K[i][w] = max(K[i-1][w], K[i-1][w-wt[i-1]]+val[i-1])    # 물건을 담았을 때와 담지 않았을 때의 가치를 비교하여 더 큰 값을 save\n",
    "            else:                                                       # 물건의 무게가 여유공간보다 크면\n",
    "                K[i][w] = K[i-1][w]                                     # 물건을 넣지 않음\n",
    "    \n",
    "    return K[n][W]                                                      # 계산 결과값을 반환\n",
    "\n",
    "# driver code\n",
    "val = [60,100,120]\n",
    "wt = [10,20,30]\n",
    "W = 50\n",
    "n = len(val)\n",
    "knapSack(W, wt, val, n)                                                 # 220"
   ]
  },
  {
   "cell_type": "markdown",
   "metadata": {},
   "source": [
    "<h3>7. Subset Sum(부분집합 합 문제)</h3>"
   ]
  },
  {
   "cell_type": "markdown",
   "metadata": {},
   "source": [
    "* 집합의 원소의 합이 특정값이 되는지 판단하는 문제\n",
    "* Knapsack의 Special case"
   ]
  },
  {
   "cell_type": "code",
   "execution_count": 24,
   "metadata": {},
   "outputs": [
    {
     "data": {
      "text/plain": [
       "True"
      ]
     },
     "execution_count": 24,
     "metadata": {},
     "output_type": "execute_result"
    }
   ],
   "source": [
    "def isSubsetSum(set, n, sum):\n",
    "    subset = [[False for i in range(sum + 1)] for i in range(n + 1)]                # lookup table 초기화(n * sum)\n",
    "\n",
    "    for i in range(n + 1):\n",
    "        subset[i][0] = True\n",
    "\n",
    "        for i in range(1, sum + 1):\n",
    "            subset[0][i] = False\n",
    "        \n",
    "        for i in range(1, n + 1):\n",
    "            for j in range(1, sum + 1):                                             # table을 돌면서\n",
    "                if j < set[i-1]:                                                    # 집합의 원소가 target보다 크면 넘어감\n",
    "                    subset[i][j] = subset[i-1][j]\n",
    "                else:                                                               # 집합의 원소가 target보다 작으면\n",
    "                    subset[i][j] = subset[i-1][j] or subset[i-1][j-set[i-1]]        # 선택하거나 선택하지 않았을 때 target이 나오는지 판단\n",
    "\n",
    "    return subset[n][sum]                                                           # 계산 결과를 반환\n",
    "\n",
    "# driver code\n",
    "set = [3,34,4,12,5,2]\n",
    "sum = 9\n",
    "n = len(set)\n",
    "isSubsetSum(set, n, sum)                                                            # True"
   ]
  },
  {
   "cell_type": "markdown",
   "metadata": {},
   "source": [
    "<h3>8. Optimal BST(최적 이진탐색트리)</h3>"
   ]
  },
  {
   "cell_type": "markdown",
   "metadata": {},
   "source": [
    "* 이진탐색트리에서 평균 탐색 횟수를 최소로 만드는 이진탐색트리\n",
    "*  키와 각 키가 검색될 확률이 주어지면 평균계산횟수를 반환\n",
    "* C[i][j] = min(C[i][k-1]+C[k+1][j] + sum(freq)i->j)\n",
    "* cost = frequency * 탐색횟수\n",
    "* CMM과 비슷한 논리(k1~kn을 3등분하여 반복)"
   ]
  },
  {
   "cell_type": "code",
   "execution_count": null,
   "metadata": {},
   "outputs": [
    {
     "data": {
      "text/plain": [
       "142"
      ]
     },
     "execution_count": 36,
     "metadata": {},
     "output_type": "execute_result"
    }
   ],
   "source": [
    "INT_MAX = 214783647\n",
    "\n",
    "def optimalSearchTree(keys, freq, n):\n",
    "    cost = [[0 for x in range(n)] for x in range(n)]            # lookup table 초기화\n",
    "\n",
    "    for i in range(n):\n",
    "        cost[i][i] = freq[i]                                    # main diagonal = freq \n",
    "    \n",
    "    for L in range(2, n+1):\n",
    "        for i in range(n-L+1):\n",
    "            j = i + L - 1\n",
    "            off_set_sum = sum(freq, i, j)                       # root에서의 탐색 cost(모든 노드는 root에서 탐색을 한번 수행)\n",
    "            cost[i][j] = INT_MAX\n",
    "\n",
    "            for r in range(i, j+1):\n",
    "                c = 0\n",
    "                if r > i:                                       # left subtree의 탐색 cost\n",
    "                    c += cost[i][r-1]\n",
    "                if r < j:\n",
    "                    c += cost[r+1][j]                           # right subtree의 탐색 cost\n",
    "                c += off_set_sum                                # root에서의 탐색 cost\n",
    "                if c < cost[i][j]:\n",
    "                    cost[i][j] = c                              # cost가 작은 값을 save\n",
    "    \n",
    "    return cost[0][n-1]                                         # 계산 결과를 반환\n",
    "\n",
    "def sum(freq, i, j):                                            # i부터 j까지 frequency의 합\n",
    "    s = 0\n",
    "    for k in range(i, j + 1):\n",
    "        s += freq[k]\n",
    "    return s\n",
    "\n",
    "# driver code\n",
    "keys = [10,12,20]\n",
    "freq = [34,8,50]\n",
    "n = len(keys)\n",
    "optimalSearchTree(keys, freq, n)                                # 142"
   ]
  },
  {
   "cell_type": "markdown",
   "metadata": {},
   "source": [
    "<h2>Greedy</h2>"
   ]
  },
  {
   "cell_type": "markdown",
   "metadata": {},
   "source": [
    "* 매 순간 최선의 선택을 하는 알고리즘\n",
    "* Local optimal choice ==> Global optimal solution(Optimal substructure)\n",
    "* Select : 한가지 경우의 수 선택 -> Feasibility check : 최선인지 검사 -> Solution check : 답이 나왔는지 검사"
   ]
  },
  {
   "cell_type": "markdown",
   "metadata": {},
   "source": [
    "<h3>1. Prim's MST : 그래프에서 간선들의 가중치의 합이 최소인 신장트리를 구하는 알고리즘</h3>"
   ]
  },
  {
   "cell_type": "markdown",
   "metadata": {},
   "source": [
    "* root에서 시작하여 가장 가까운 노드들을 선택하여 트리를 구성"
   ]
  },
  {
   "cell_type": "code",
   "execution_count": 1,
   "metadata": {},
   "outputs": [
    {
     "name": "stdout",
     "output_type": "stream",
     "text": [
      "0 1 2\n",
      "1 2 3\n",
      "0 3 6\n",
      "1 4 5\n"
     ]
    }
   ],
   "source": [
    "class Graph:\n",
    "    def __init__(self, vertices):\n",
    "        self.V = vertices\n",
    "        self.graph =[[0 for column in range(vertices)] for row in range(vertices)]    \n",
    "\n",
    "    def minKey(self, key, mstSet):\n",
    "        min = 1e9+7\n",
    "        for v in range(self.V):\n",
    "            if key[v] < min and mstSet[v] == False:                                                     # 트리에 포함되어있지 않고 간선의 비용이 현재보다 작으면\n",
    "                min = key[v]                                                                            # 간선을 선택\n",
    "                min_index = v\n",
    "        \n",
    "        return min_index\n",
    "    \n",
    "    def primMST(self):\n",
    "        key = [1e9+7] * self.V                                                                          # 지금까지 탐색한 트리의 간선의 최소비용\n",
    "        parent = [None] * self.V                                                                        # 노드의 부모노드를 저장하는 리스트\n",
    "        key[0] = 0\n",
    "        mstSet = [False] * self.V                                                                       # 트리에 포함된 노드를 기록\n",
    "        parent[0] = -1                                                                                  # root node = 0번 노드\n",
    "\n",
    "        for count in range(self.V):                                                                     # 전체 노드를 돌면서\n",
    "            u = self.minKey(key, mstSet)                                                                # 현재 노드에 연결된 최소 비용의 간선을 찾고 (u = node)\n",
    "            mstSet[u] = True                                                                            # 최소비용으로 이어진 노드를 트리에 포함시킴\n",
    "\n",
    "            for v in range(self.V):                                                                     # 전체 노드를 돌면서\n",
    "                if self.graph[u][v] > 0 and mstSet[v] == False and key[v] > self.graph[u][v]:           # 두 노드가 연결되어있고 노드가 트리에 포함되지 않았으며 지금까지의 최솟값보다 비용이 적은 간선이 있으면\n",
    "                    key[v] = self.graph[u][v]                                                           # 최솟값을 업데이트\n",
    "                    parent[v] = u                                                                       # 간선을 선택\n",
    "        \n",
    "        for i in range(1, self.V):\n",
    "            print(parent[i], i, self.graph[i][parent[i]])\n",
    "\n",
    "\n",
    "# driver code\n",
    "g = Graph(5)\n",
    "g.graph = [[0,2,0,6,0],\n",
    "           [2,0,3,8,5],\n",
    "           [0,3,0,0,7],\n",
    "           [6,8,0,0,9],\n",
    "           [0,5,7,9,0]]\n",
    "g.primMST()                                                                                             # 0 -- 1 -- 2\n",
    "                                                                                                        #   \\   \\\n",
    "                                                                                                        #     -3  -4"
   ]
  },
  {
   "cell_type": "markdown",
   "metadata": {},
   "source": [
    "<h3>2. Kruskal's MST : 그래프에서 간선들의 가중치의 합이 최소인 신장트리를 구하는 알고리즘</h3>"
   ]
  },
  {
   "cell_type": "markdown",
   "metadata": {},
   "source": [
    "* 가장 비용이 낮은 간선들을 먼저 선택\n",
    "* 모든 노드가 연결되도록 하는 간선들을 모아 트리를 구성"
   ]
  },
  {
   "cell_type": "code",
   "execution_count": 3,
   "metadata": {},
   "outputs": [
    {
     "name": "stdout",
     "output_type": "stream",
     "text": [
      "2 3 4\n",
      "0 3 5\n",
      "0 1 10\n",
      "19\n"
     ]
    }
   ],
   "source": [
    "class Graph:\n",
    "\n",
    "    def __init__(self, vertices):\n",
    "        self.V = vertices\n",
    "        self.graph = []\n",
    "    \n",
    "    def addEdge(self, u, v, w):\n",
    "        self.graph.append([u,v,w])\n",
    "\n",
    "    def find(self, parent, i):                                          # root를 찾는 함수\n",
    "        if(parent[i] == i):                                             # 부모노드가 없으면(그 트리의 root면)\n",
    "            return i                                                    # 노드를 반환\n",
    "        return self.find(parent, parent[i])                             # 부모노드가 있으면 다시 탐색\n",
    "    \n",
    "    def union(self, parent, rank, x, y):                                # 두 트리를 합치는 함수\n",
    "        xroot = self.find(parent, x)                                    # 각 트리의 root를 찾고\n",
    "        yroot = self.find(parent, y)\n",
    "        \n",
    "        if rank[xroot] < rank[yroot]:                                   # 크기가 작은 트리의 root를 큰 트리의 root에 연결\n",
    "            parent[xroot] = yroot\n",
    "        elif rank[xroot] > rank[yroot]:\n",
    "            parent[yroot] = xroot\n",
    "        else:\n",
    "            parent[yroot] = xroot\n",
    "            rank[xroot] += 1\n",
    "        \n",
    "    def KruskalMST(self):\n",
    "        result = []\n",
    "        i = 0                                                           # 그래프를 참조하는 인덱스\n",
    "        e = 0                                                           # rank를 참조하는 인덱스\n",
    "        \n",
    "        self.graph = sorted(self.graph, key=lambda item : item[2])      # 모든 간선들을 오름차순으로 정렬\n",
    "        parent = []\n",
    "        rank = []\n",
    "\n",
    "        for node in range(self.V):                                      # 노드들의 집합 생성\n",
    "            parent.append(node)                                         # 모든 노드의 parent를 자기자신으로 초기화\n",
    "            rank.append(0)                                              # 모든 노드의 rank를 0으로 초기화\n",
    "        \n",
    "        while e < self.V - 1:                                           # 모든 간선을 돌면서\n",
    "            u, v, w = self.graph[i]\n",
    "            i = i + 1\n",
    "            x = self.find(parent, u)                                    # sorce node의 root를 찾고    \n",
    "            y = self.find(parent, v)                                    # destination node의 root를 찾은 뒤\n",
    "\n",
    "            if x != y:                                                  # 두 노드의 root가 다르다면\n",
    "                e = e + 1\n",
    "                result.append([u,v,w])                                  # MST에 간선을 추가\n",
    "                self.union(parent, rank, x, y)                          # 두 트리를 합침\n",
    "            \n",
    "        minimumCost = 0\n",
    "        for u, v, w in result:\n",
    "            minimumCost += w\n",
    "            print(u, v, w)\n",
    "        print(minimumCost)\n",
    "\n",
    "# driver code\n",
    "g = Graph(4)\n",
    "e = [[0,1,10],\n",
    "     [0,2,6],\n",
    "     [0,3,5],\n",
    "     [1,3,15],\n",
    "     [2,3,4]]\n",
    " \n",
    "for u,v,w in e:\n",
    "    g.addEdge(u,v,w)\n",
    "                                                                        #      4     5      10\n",
    "g.KruskalMST()                                                          # (2) -- (3) -- (0) -- (1)"
   ]
  },
  {
   "cell_type": "markdown",
   "metadata": {},
   "source": [
    "<h3>3. Dijkstra's Algorithm : 한 노드에서 다른 노드까지의 최단거리를 구하는 알고리즘(positive edge only)</h3>"
   ]
  },
  {
   "cell_type": "markdown",
   "metadata": {},
   "source": [
    "* Greedy : 현재까지 알고 있던 최단경로를 계속해서 갱신"
   ]
  },
  {
   "cell_type": "code",
   "execution_count": 17,
   "metadata": {},
   "outputs": [
    {
     "name": "stdout",
     "output_type": "stream",
     "text": [
      "0 0\n",
      "1 2\n",
      "2 6\n",
      "3 3\n",
      "4 7\n"
     ]
    }
   ],
   "source": [
    "class Graph():\n",
    "    \n",
    "    def __init__(self, vertices):\n",
    "        self.V = vertices\n",
    "        self.graph = [[0 for column in range(vertices)] for row in range(vertices)]\n",
    "\n",
    "    def minDistance(self, dist, sptSet):\n",
    "        min = 1e9+7\n",
    "\n",
    "        for u in range(self.V):                                                                             # 노드를 돌면서\n",
    "            if dist[u] < min and sptSet[u] == False:                                                        # 트리에 포함되지 않은 가장 가까운 노드를 찾음\n",
    "                min = dist[u]\n",
    "                min_index = u\n",
    "        \n",
    "        return min_index\n",
    "    \n",
    "    def dijkstra(self, src):\n",
    "        dist = [1e9+7] * self.V                                                                             # 출발 노드부터의 최소거리를 저장하는 리스트\n",
    "        dist[src] = 0\n",
    "        sptSet = [False] * self.V                                                                           # spanning tree\n",
    "\n",
    "        for count in range(self.V):\n",
    "            x = self.minDistance(dist, sptSet)                                                              # 가장 가까운 노드를 찾고\n",
    "            sptSet[x] = True                                                                                # 트리에 포함시킨 뒤\n",
    "            \n",
    "            for y in range(self.V):\n",
    "                if self.graph[x][y] > 0 and sptSet[y] == False and dist[y] > dist[x] + self.graph[x][y]:    # 각 노드의 최소거리를 갱신\n",
    "                    dist[y] = dist[x] + self.graph[x][y]\n",
    "        \n",
    "        for node in range(self.V):\n",
    "            print(node, dist[node])\n",
    "\n",
    "# driver code\n",
    "g = Graph(5)\n",
    "g.graph = [[0,2,0,3,0],\n",
    "           [2,0,4,1,0],\n",
    "           [0,4,0,5,3],\n",
    "           [3,1,5,0,4],\n",
    "           [0,0,3,4,0]]\n",
    "g.dijkstra(0)"
   ]
  },
  {
   "cell_type": "markdown",
   "metadata": {},
   "source": [
    "<h3>4. Job Sequencing : 제한시간 안에 최대의 이익을 내도록 주어진 일의 순서를 짜는 알고리즘</h3>"
   ]
  },
  {
   "cell_type": "markdown",
   "metadata": {},
   "source": [
    "* job의 deadline과 profit이 주어지고 모든 job은 한번에 하나씩 수행됨\n",
    "* deadline안에 최대의 profit을 내도록 job을 scheduling"
   ]
  },
  {
   "cell_type": "code",
   "execution_count": 27,
   "metadata": {},
   "outputs": [
    {
     "name": "stdout",
     "output_type": "stream",
     "text": [
      "['c', 'a', 'e']\n"
     ]
    }
   ],
   "source": [
    "def jobScheduling(arr, t):\n",
    "    n = len(arr)\n",
    "    for i in range(n):                                          # job을 profit이 큰 순서로 정렬\n",
    "        for j in range(n - 1 - i):\n",
    "            if arr[j][2] < arr[j+1][2]:\n",
    "                arr[j], arr[j+1] = arr[j+1], arr[j]\n",
    "    \n",
    "    result = [False] * t\n",
    "    job = ['-1'] * t\n",
    "\n",
    "    for i in range(len(arr)):                                   # job의 수만큼 반복하면서\n",
    "        for j in range(min(t-1, arr[i][1] - 1), -1, -1):        # job의 deadline부터 안쪽으로 돌면서\n",
    "            if result[j] is False:                              # free slot을 찾으면\n",
    "                result[j] = True\n",
    "                job[j] = arr[i][0]                              # job을 slot에 넣음\n",
    "                break\n",
    "    \n",
    "    print(job)\n",
    "\n",
    "# driver code\n",
    "arr = [['a',2,100],\n",
    "       ['b',1,19],\n",
    "       ['c',2,27],\n",
    "       ['d',1,25],\n",
    "       ['e',3,15]]\n",
    "jobScheduling(arr, 3)"
   ]
  },
  {
   "cell_type": "markdown",
   "metadata": {},
   "source": [
    "<h2>BackTracking</h2>"
   ]
  },
  {
   "cell_type": "markdown",
   "metadata": {},
   "source": [
    "* 원하는 답이 나올 가능성이 없는 곳은 탐색하지 않음\n",
    "* DFS로 각 node가 promising하면 탐색, 그렇지 않으면 backtrack(pruning)\n",
    "* promising function의 설계가 중요함"
   ]
  },
  {
   "cell_type": "markdown",
   "metadata": {},
   "source": [
    "<h3>1. N-Queens : 체스판에 N개의 퀸을 안전한 상태로 놓는 문제</h3>"
   ]
  },
  {
   "cell_type": "code",
   "execution_count": 1,
   "metadata": {},
   "outputs": [
    {
     "name": "stdout",
     "output_type": "stream",
     "text": [
      "0 0 1 0 \n",
      "1 0 0 0 \n",
      "0 0 0 1 \n",
      "0 1 0 0 \n"
     ]
    }
   ],
   "source": [
    "global N\n",
    "N = 4\n",
    "\n",
    "def isSafe(board, row, col):\n",
    "    for i in range(col):                                    # 가로줄이 안전한지 확인\n",
    "        if board [row][i] == 1:\n",
    "            return False\n",
    "    \n",
    "    for i,j in zip(range(row,-1,-1), range(col,-1,-1)):     # \\ 방향 대각선이 안전한지 확인\n",
    "        if board[i][j] == 1:\n",
    "            return False\n",
    "    \n",
    "    for i,j,in zip(range(row,N,1), range(col,-1,-1)):       # / 방향 대각선이 안전한지 확인\n",
    "        if board[i][j] == 1:\n",
    "            return False\n",
    "    \n",
    "    return True\n",
    "\n",
    "def solveNQUtil(board, col):\n",
    "    if col >= N:                                            # base case : 모든 퀸이 보드에 놓였으면 True를 반환\n",
    "        return True\n",
    "    \n",
    "    for i in range(N):                                      # 가로 열을 따라서\n",
    "        if isSafe(board, i, col):                           # (i,col)이 안전하면\n",
    "            board[i][col] = 1                               # 퀸을 놓고\n",
    "            if solveNQUtil(board, col+1) == True:           # 다음 행으로 진행(recursive call)\n",
    "                return True                                 # 모든 퀸을 놓았으면 True\n",
    "            board[i][col] = 0                               # 그렇지 않으면 퀸을 수거\n",
    "    return False                                            # 방법이 없으면 False\n",
    "\n",
    "def solveNQ():\n",
    "    board = [[0,0,0,0],\n",
    "             [0,0,0,0],\n",
    "             [0,0,0,0],\n",
    "             [0,0,0,0]]\n",
    "    if solveNQUtil(board, 0) == False:\n",
    "        return -1\n",
    "    \n",
    "    for i in range(N):\n",
    "        for j in range(N):\n",
    "            print(board[i][j], end=\" \")\n",
    "        print()\n",
    "\n",
    "# driver code\n",
    "solveNQ()                                                   # 0 0 1 0\n",
    "                                                            # 1 0 0 0\n",
    "                                                            # 0 0 0 1\n",
    "                                                            # 0 1 0 0"
   ]
  },
  {
   "cell_type": "markdown",
   "metadata": {},
   "source": [
    "<h3>2. Subset Sum(부분집합 합 문제)</h3>"
   ]
  },
  {
   "cell_type": "markdown",
   "metadata": {},
   "source": [
    "* 집합의 원소의 합이 특정값이 되는지 판단하는 문제\n",
    "* Knapsack의 Special case"
   ]
  },
  {
   "cell_type": "code",
   "execution_count": 36,
   "metadata": {},
   "outputs": [
    {
     "name": "stdout",
     "output_type": "stream",
     "text": [
      "[2, 3, 5]\n"
     ]
    },
    {
     "data": {
      "text/plain": [
       "True"
      ]
     },
     "execution_count": 36,
     "metadata": {},
     "output_type": "execute_result"
    }
   ],
   "source": [
    "def isSafe(sum, target_sum):\n",
    "    if sum <= target_sum:                                                                   # subset sum이 target sum보다 작거나 같으면 True\n",
    "        return True\n",
    "    else:\n",
    "        return False\n",
    "\n",
    "def subsetSumUtil(subset, sum, set, i, n, target_sum):\n",
    "    if sum == target_sum:                                                                   # base case : subset sum이 target sum과 같으면 True\n",
    "        return True\n",
    "    \n",
    "    for s in range(i, n):                                                                   # 전체 집합을 돌면서\n",
    "        if isSafe(sum, target_sum):                                                         # 현재 subset sum이 target sum을 넘지 않았다면\n",
    "            subset.append(set[s])                                                           # subset에 원소를 추가\n",
    "            if subsetSumUtil(subset, sum + set[s], set, s+1, n, target_sum) == True:        # 다음 원소에 대해 조사(recursive call)하고\n",
    "                return True                                                                 # subset sum == target sum인 subset을 찾으면 True\n",
    "            subset.pop()                                                                    # subset에서 가장 최근의 원소를 뺌(backtrack)\n",
    "            \n",
    "    return False\n",
    "\n",
    "def subsetSum(set, target_sum):\n",
    "    set.sort()\n",
    "    n = len(set)\n",
    "    subset = []\n",
    "    if subsetSumUtil(subset, 0, set, 0, n, target_sum):\n",
    "        print(subset)\n",
    "        return True\n",
    "    else:\n",
    "        return False\n",
    "\n",
    "# driver code\n",
    "set = [3,34,4,12,5,2]\n",
    "target_sum = 10\n",
    "subsetSum(set, target_sum)                                                                  # [2,3,5]"
   ]
  },
  {
   "cell_type": "markdown",
   "metadata": {},
   "source": [
    "<h3>3. M-coloring : 주어진 그래프에 m개의 색을 겹치지 않고 칠할 수 있는지 판단하는 문제</h3>"
   ]
  },
  {
   "cell_type": "markdown",
   "metadata": {},
   "source": [
    "* 인접한 칸의 색은 모두 달라야 함"
   ]
  },
  {
   "cell_type": "code",
   "execution_count": 5,
   "metadata": {},
   "outputs": [
    {
     "name": "stdout",
     "output_type": "stream",
     "text": [
      "1 2 3 2 "
     ]
    }
   ],
   "source": [
    "N = 4\n",
    "\n",
    "def isSafe(graph, color):\n",
    "    for i in range(N):\n",
    "        for j in range(i+1, N):\n",
    "            if graph[i][j] and color[j] == color[i]:    # 인접한 두 노드의 색이 같으면 False\n",
    "                return False\n",
    "    return True\n",
    "\n",
    "def graphColoring(graph, m, i, color):\n",
    "    if(i == 4):                                         # base case : 마지막 노드까지 색칠한 뒤\n",
    "        if(isSafe(graph, color)):                       # 그래프를 검사하고 이상이 없으면 True\n",
    "            return True\n",
    "        return False\n",
    "    \n",
    "    for j in range(1, m+1):                             # 색깔의 수만큼 돌면서\n",
    "        color[i] = j                                    # i번째 노드에 j번째 색을 칠하고\n",
    "        if graphColoring(graph, m, i+1, color):         # 다음 노드로 진행한 뒤 이상이 없으면 True\n",
    "            return True\n",
    "        color[i] = 0                                    # 겹치는 구간이 있었으면 backtrack\n",
    "    return False\n",
    "\n",
    "# driver code\n",
    "graph = [[0,1,1,1],                                     # (3) --- (2)\n",
    "         [1,0,1,0],                                     # |      / |\n",
    "         [1,1,0,1],                                     # |    /   |\n",
    "         [1,0,1,0]]                                     # |  /     |  \n",
    "m = 3                                                   # (0) --- (1)\n",
    "color = [0 for i in range(N)]\n",
    "if graphColoring(graph, m, 0, color):\n",
    "    for i in range(N):\n",
    "        print(color[i], end=\" \")                        # 1 2 3 2"
   ]
  },
  {
   "cell_type": "markdown",
   "metadata": {},
   "source": [
    "<h3>4. Hamiltonian Cycle : 그래프에서 해밀턴 경로를 찾는 알고리즘</h3>"
   ]
  },
  {
   "cell_type": "markdown",
   "metadata": {},
   "source": [
    "* Hamiltonian Cycle : 모든 꼭짓점을 한번씩 지나고 출발노드로 돌아오는 경로"
   ]
  },
  {
   "cell_type": "code",
   "execution_count": 13,
   "metadata": {},
   "outputs": [
    {
     "name": "stdout",
     "output_type": "stream",
     "text": [
      "0 1 2 4 3 "
     ]
    }
   ],
   "source": [
    "class Graph:\n",
    "    def __init__(self, vertices):\n",
    "        self.V = vertices\n",
    "        self.graph = [[0 for column in range(vertices)] for row in range(vertices)]\n",
    "    \n",
    "    def isSafe(self, v, pos, path):\n",
    "        if self.graph[path[pos-1]][v] == 0:                     # path의 직전 노드에서 현재노드로 이어진 간선이 없으면 False\n",
    "            return False\n",
    "    \n",
    "        for vertex in path:                                     # path에 현재 노드가 이미 있으면 False\n",
    "            if vertex == v:\n",
    "                return False\n",
    "        return True\n",
    "    \n",
    "    def hamCycleUtil(self, path, pos):\n",
    "        if pos == self.V:                                       # base case : 마지막 노드까지 path에 추가한 뒤\n",
    "            if self.graph[path[pos-1]][path[0]] == 1:           # 출발 노드와 이어진 간선이 있으면 True\n",
    "                return True\n",
    "            else:\n",
    "                return False\n",
    "        \n",
    "        for v in range(1, self.V):                              # 모든 노드를 돌면서\n",
    "            if self.isSafe(v, pos, path) == True:               # 현재 노드가 방문 가능하면\n",
    "                path[pos] = v                                   # 노드를 방문하고\n",
    "                if self.hamCycleUtil(path, pos+1) == True:      # 다음 노드를 탐색하고 문제가 없으면 True\n",
    "                    return True\n",
    "                path[pos] = -1                                  # cycle이 만들어지지 않으면 backtrack\n",
    "        \n",
    "        return False\n",
    "    \n",
    "    def hamCycle(self):\n",
    "        path = [-1] * self.V\n",
    "        path[0] = 0\n",
    "        \n",
    "        if self.hamCycleUtil(path, 1) == False:\n",
    "            return False\n",
    "        \n",
    "        for vertex in path:\n",
    "            print(vertex, end=\" \")\n",
    "    \n",
    "# driver code\n",
    "g = Graph(5)\n",
    "g.graph = [[0,1,0,1,0],                                         # (0) -- (1) -- (2)\n",
    "           [1,0,1,1,1],                                         #  |     / \\     |\n",
    "           [0,1,0,0,1],                                         #  |    /   \\    |\n",
    "           [1,1,0,0,1],                                         #  |   /     \\   |\n",
    "           [0,1,1,1,0]]                                         # (3) --------- (4)  \n",
    "g.hamCycle()"
   ]
  },
  {
   "cell_type": "markdown",
   "metadata": {},
   "source": [
    "<h2>Branch and Bound</h2>"
   ]
  },
  {
   "cell_type": "markdown",
   "metadata": {},
   "source": [
    "* 원하는 답이 나올 가능성이 없는 곳은 탐색하지 않음\n",
    "* BFS로 bound function을 만족하면 탐색, 그렇지 않으면 pruning\n",
    "* Bound function : f = g + h < BEST ==> 현재값 + heuristic이 BEST값보다 작으면(upper bound / 크면 => lower bound) safe.\n",
    "* Heuristic : solition이 있을 가능성을 보장하는 값"
   ]
  },
  {
   "cell_type": "markdown",
   "metadata": {},
   "source": [
    "<h3>1. 0/1 Knapsack(배낭문제) : 조합 최적화 문제</h3>"
   ]
  },
  {
   "cell_type": "markdown",
   "metadata": {},
   "source": [
    "* 한정된 무게를 담을 수 있는 배낭에 담을 수 있는 최대 가치의 물건 조합을 찾는 문제\n",
    "* Maximization Optimization : upper bound\n",
    "* bound function : f = g + h\n",
    "* g : 배낭에 담긴 물건의 가치의 합. sum(profit[item_1] ~ profit[item_i])\n",
    "* h : 남은 공간에 최대로 넣을 수 있는 물건 가치의 합(fractional knapsack). sum(profit[item_i+1] ~ profit[item_k]) + W-sum(w[1] ~ w[k]) * profit[k+1]/w[k+1] "
   ]
  },
  {
   "cell_type": "code",
   "execution_count": 41,
   "metadata": {},
   "outputs": [
    {
     "name": "stdout",
     "output_type": "stream",
     "text": [
      "90 [0, 2]\n"
     ]
    }
   ],
   "source": [
    "class Priority_Queue:\n",
    "    def __init__(self):\n",
    "        self.pqueue = []\n",
    "        self.length = 0\n",
    "    \n",
    "    def insert(self, node):\n",
    "        for i in self.pqueue:\n",
    "            get_bound(i)\n",
    "        i = 0\n",
    "        \n",
    "        while i < len(self.pqueue):\n",
    "            if self.pqueue[i].bound > node.bound:\n",
    "                break\n",
    "            i += 1\n",
    "        \n",
    "        self.pqueue.insert(i, node)\n",
    "        self.length += 1\n",
    "    \n",
    "    def remove(self):\n",
    "        if self.length > 0:\n",
    "            result = self.pqueue.pop()\n",
    "            self.length -= 1\n",
    "            \n",
    "            return result\n",
    "    \n",
    "class Node:\n",
    "    def __init__(self, level, profit, weight):\n",
    "        self.level = level\n",
    "        self.profit = profit\n",
    "        self.weight = weight\n",
    "        self.items = []\n",
    "\n",
    "def get_bound(node):\n",
    "    if node.weight >= W:\n",
    "        return 0\n",
    "    else:\n",
    "        result = node.profit\n",
    "        j = node.level + 1\n",
    "        total_weight = node.weight\n",
    "        while j <= n-1 and total_weight + w[j] <= W:\n",
    "            total_weight = total_weight + w[j]\n",
    "            result = result + p[j]\n",
    "            j += 1\n",
    "        k = j\n",
    "        if k <= n-1:\n",
    "            result = result + (W - total_weight) * p_per_weight[k]\n",
    "        return result\n",
    "\n",
    "\n",
    "n = 4\n",
    "W = 16\n",
    "p = [40,30,50,10]\n",
    "w = [2,5,10,5]\n",
    "p_per_weight = [ p / w for p,w in zip(p,w)]\n",
    "\n",
    "nodes_generated = 0\n",
    "pq = Priority_Queue()\n",
    "v = Node(-1,0,0)\n",
    "nodes_generated += 1\n",
    "maxprofit = 0\n",
    "v.bound = get_bound(v)\n",
    "\n",
    "pq.insert(v)\n",
    "\n",
    "while pq.length != 0:\n",
    "    v = pq.remove()\n",
    "\n",
    "    if v.bound > maxprofit:\n",
    "        u = Node(0,0,0)\n",
    "        nodes_generated += 1\n",
    "        u.level = v.level + 1\n",
    "        u.profit = v.profit + p[u.level]\n",
    "        u.weight = v.weight + w[u.level]\n",
    "\n",
    "        u.items = v.items.copy()\n",
    "        u.items.append(u.level)\n",
    "\n",
    "        if u.weight <= W and u.profit > maxprofit:\n",
    "            maxprofit = u.profit\n",
    "            bestitems = u.items\n",
    "        \n",
    "        u.bound = get_bound(u)\n",
    "\n",
    "        if u.bound > maxprofit:\n",
    "            pq.insert(u)\n",
    "        \n",
    "        u2 = Node(u.level, v.profit, v.weight)\n",
    "        nodes_generated += 1\n",
    "        u2.bound = get_bound(u2)\n",
    "        u2.items = v.items.copy()\n",
    "\n",
    "        if u2.bound > maxprofit:\n",
    "            pq.insert(u2)\n",
    "\n",
    "print(maxprofit, bestitems)"
   ]
  },
  {
   "cell_type": "markdown",
   "metadata": {},
   "source": [
    "<h3>2. 8-puzzle : 3*3크기의 숫자퍼즐을 푸는 문제</h3>"
   ]
  },
  {
   "cell_type": "markdown",
   "metadata": {},
   "source": [
    "* 퍼즐은 1~8까지의 숫자와 공백 한칸으로 구성\n",
    "* 초기 퍼즐의 모양과 결과를 입력하면 한칸씩 움직이면서 답을 찾음\n",
    "* Minimization Optimazation : lower bound\n",
    "* g : 초기 위치부터 지금까지 이동한 횟수\n",
    "* h : 완성되지 못한 타일이 앞으로 움직여야 하는 최소 횟수"
   ]
  },
  {
   "cell_type": "markdown",
   "metadata": {},
   "source": [
    "<h3>3. TSP(외판원 문제) : 그래프에서 모든 노드를 한번만 방문하고 시작점으로 돌아오는 최소비용의 경로를 구하는 알고리즘</h3>"
   ]
  },
  {
   "cell_type": "markdown",
   "metadata": {},
   "source": [
    "* Minimization Optimization : lower bound\n",
    "* g : 지금까지의 경로의 길이\n",
    "* h : 모든 노드를 가장 길이가 짧은 간선으로 방문하고 두번째로 길이가 짧은 간선으로 나간다고 가정했을 때 두 간선의 길이의 평균값\n",
    "* f = g + h, bound = 직전bound - f"
   ]
  },
  {
   "cell_type": "code",
   "execution_count": 39,
   "metadata": {},
   "outputs": [
    {
     "name": "stdout",
     "output_type": "stream",
     "text": [
      "80\n",
      "0 1 3 2 0 "
     ]
    }
   ],
   "source": [
    "maxsize = float('inf')\n",
    "\n",
    "def copyToFinal(curr_path):\n",
    "    final_path[:N+1] = curr_path[:]\n",
    "    final_path[N] = curr_path[0]\n",
    "\n",
    "def firstMin(adj,i):                                                                                    # 현재 노드에서 가장 가까운 노드까지의 거리를 반환\n",
    "    min = maxsize\n",
    "    for k in range(N):\n",
    "        if adj[i][k] < min and i != k:\n",
    "            min = adj[i][k]\n",
    "    return min\n",
    "\n",
    "def secondMin(adj,i):                                                                                   # 현재 노드에서 두번째로 가까운 노드까지의 거리를 반환\n",
    "    first, second = maxsize, maxsize\n",
    "    for j in range(N):\n",
    "        if i == j:\n",
    "            continue\n",
    "        if adj[i][j] <= first:                                                                          # 가장 가까운 노드까지의 거리를 first에 저장\n",
    "            second = first                                                                              # 현재 firstMin을 secondMin으로 변경\n",
    "            first = adj[i][j]\n",
    "        elif adj[i][j] <= second and adj[i][j] != first:                                                # firstMin이 아니고 secondMin보다 가까운 노드를 찾으면\n",
    "            second = adj[i][j]                                                                          # secondMin에 저장\n",
    "    return second\n",
    "\n",
    "def TSPRec(adj, curr_bound, curr_weight, level, curr_path, visited):\n",
    "    global final_res\n",
    "    if level == N:                                                                                      # 마지막 노드까지 방문했다면\n",
    "        if adj[curr_path[level-1]][curr_path[0]] != 0:                                                  # 가장 마지막에 방문한 노드가 출발지와 연결되어있다면\n",
    "            curr_res = curr_weight + adj[curr_path[level-1]][curr_path[0]]                              # 지금까지의 경로의 거리를 갱신\n",
    "        if curr_res < final_res:                                                                        # 지금까지의 경로의 거리가 최솟값보다 작다면\n",
    "            copyToFinal(curr_path)                                                                      # 현재의 경로를 결과에 복사\n",
    "            final_res = curr_res                                                                        # 현재 경로의 거리를 최솟값으로 지정\n",
    "        return\n",
    "    \n",
    "    for i in range(N):                                                                                  # 모든 노드를 돌면서\n",
    "        if adj[curr_path[level-1]][i] != 0 and visited[i] == False:                                     # 경로의 마지막 노드에서 이번 노드까지 간선이 있고 이번 노드를 방문하지 않았다면\n",
    "            temp = curr_bound                                                                           # 현재의 h value를 임시저장하고\n",
    "            curr_weight += adj[curr_path[level-1]][i]                                                   # g value를 갱신(지금까지의 경로의 거리)\n",
    "\n",
    "            if level == 1:                                                                              # 만약 첫번째로 방문한 노드라면\n",
    "                curr_bound -= ((firstMin(adj, curr_path[level-1]) + firstMin(adj,i)) / 2)               # h value값을 갱신(현재 h값 - (직전노드의 firstMin + 현재노드의 firstMin) / 2)\n",
    "            else:                                                                                       # 첫번째가 아니라면\n",
    "                curr_bound -= ((secondMin(adj, curr_path[level-1]) + firstMin(adj, i)) / 2)             # h value값을 갱신(현재 h값 - (직전노드의 secondMin + 현재노드의 firstMin) / 2)\n",
    "            \n",
    "            if curr_bound + curr_weight < final_res:                                                    # g + h < BEST라면\n",
    "                curr_path[level] = i                                                                    # 경로에 현재 노드를 추가하고\n",
    "                visited[i] = True                                                                       # 노드를 방문\n",
    "\n",
    "                TSPRec(adj, curr_bound, curr_weight, level+1, curr_path, visited)                       # 다음 노드 방문(recursive call)\n",
    "                                                                                                        # g + h >= BEST라면(prunung)\n",
    "            curr_weight -= adj[curr_path[level-1]][i]                                                   # g value 복구\n",
    "            curr_bound = temp                                                                           # h value 복구\n",
    "\n",
    "            visited = [False] * len(visited)                                                            # 방문한 노드 정보 복구\n",
    "            for j in range(level):\n",
    "                if curr_path[j] != -1:\n",
    "                    visited[curr_path[j]] = True\n",
    "\n",
    "def TSP(adj):\n",
    "    curr_bound = 0                                                                                      # h value\n",
    "    curr_path = [-1] * (N+1)                                                                            # 현재 경로\n",
    "    visited = [False] * N                                                                               # 방문한 노드\n",
    "\n",
    "    for i in range(N):\n",
    "        curr_bound += ((firstMin(adj,i) + secondMin(adj, i)))                                           # 초기 h값 설정(ceil(모든 노드의 firstMin과 secondMin의 합 / 2))\n",
    "    \n",
    "    curr_bound = (curr_bound / 2) + 1 if (curr_bound / 2) > (curr_bound // 2) else (curr_bound / 2)\n",
    "\n",
    "    visited[0] = True                                                                                   # 출발 노드 방문\n",
    "    curr_path[0] = 0\n",
    "\n",
    "    TSPRec(adj, curr_bound, 0, 1, curr_path, visited)\n",
    "\n",
    "# driver code\n",
    "adj = [[0,10,15,20],\n",
    "       [10,0,35,25],\n",
    "       [15,35,0,30],\n",
    "       [20,25,30,0]]\n",
    "N = 4\n",
    "final_path = [None] * (N+1)\n",
    "visited = [False] * N\n",
    "final_res = maxsize\n",
    "TSP(adj)\n",
    "print(final_res)                                                                                            # 80\n",
    "for i in range(N+1):\n",
    "    print(final_path[i], end=' ')                                                                           # 0 1 3 2 0"
   ]
  }
 ],
 "metadata": {
  "kernelspec": {
   "display_name": "Python 3.10.5 64-bit",
   "language": "python",
   "name": "python3"
  },
  "language_info": {
   "codemirror_mode": {
    "name": "ipython",
    "version": 3
   },
   "file_extension": ".py",
   "mimetype": "text/x-python",
   "name": "python",
   "nbconvert_exporter": "python",
   "pygments_lexer": "ipython3",
   "version": "3.10.5"
  },
  "orig_nbformat": 4,
  "vscode": {
   "interpreter": {
    "hash": "d1fd6a4f7085ef63995166c6d898011fbd26ee819977a1271ad2eae9b03c83d3"
   }
  }
 },
 "nbformat": 4,
 "nbformat_minor": 2
}
