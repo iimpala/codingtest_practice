{
 "cells": [
  {
   "cell_type": "markdown",
   "metadata": {},
   "source": [
    "<h1>파이썬 알고리즘 정리</h1>"
   ]
  },
  {
   "cell_type": "markdown",
   "metadata": {},
   "source": [
    "<h2>Divide and Conquer</h2>"
   ]
  },
  {
   "cell_type": "markdown",
   "metadata": {},
   "source": [
    "* 문제를 작은 단위로 나누고 해결하는 방법\n",
    "* Divide + Conquer + Merge\n",
    "* Subproblem이 전체 문제에 비해 크기가 작을 때 유리(ex : N times -> N/2 times -> N/4 times ...)"
   ]
  },
  {
   "cell_type": "markdown",
   "metadata": {},
   "source": [
    "<h3>1. Binary Search(이진탐색) : 정렬된 리스트에서 특정 값의 위치를 찾는 알고리즘</h3>\n"
   ]
  },
  {
   "cell_type": "markdown",
   "metadata": {},
   "source": [
    "* Recursive implementation"
   ]
  },
  {
   "cell_type": "code",
   "execution_count": 1,
   "metadata": {},
   "outputs": [
    {
     "name": "stdout",
     "output_type": "stream",
     "text": [
      "3\n"
     ]
    }
   ],
   "source": [
    "def binarySearch(arr, l, r, x):\n",
    "    \n",
    "    if r >= l:                                              # base case : 오른쪽 인덱스가 왼쪽 인덱스보다 커야 함. 그렇지 않으면 -1을 리턴\n",
    "        mid = l + (r - 1) // 2                              # 가운데 위치를 계산\n",
    "\n",
    "        if arr[mid] == x:                                   # 찾는 값이 가운데에 있으면\n",
    "            return mid                                      # mid 인덱스를 반환\n",
    "        \n",
    "        elif arr[mid] > x:                                  # 찾는 값이 중간값보다 작으면\n",
    "            return binarySearch(arr, l, mid-1, x)           # 왼쪽 배열에서 다시 탐색을 진행\n",
    "        \n",
    "        else:                                               # 찾는 값이 중간값보다 크면\n",
    "            return binarySearch(arr, mid+1, r, x)           # 오른쪽 배열에서 다시 탐색을 진행\n",
    "    \n",
    "    else:\n",
    "        return -1\n",
    "\n",
    "\n",
    "# driver code\n",
    "arr = [2,3,4,10,40]\n",
    "x = 10\n",
    "\n",
    "print(binarySearch(arr, 0, len(arr)-1, x))                  # 3"
   ]
  },
  {
   "cell_type": "markdown",
   "metadata": {},
   "source": [
    "* Iteravive implementation"
   ]
  },
  {
   "cell_type": "code",
   "execution_count": 2,
   "metadata": {},
   "outputs": [
    {
     "name": "stdout",
     "output_type": "stream",
     "text": [
      "3\n"
     ]
    }
   ],
   "source": [
    "def binarySearch_iter(arr, l, r, x):\n",
    "    \n",
    "    while l <= r:\n",
    "        mid = l + (r-1) // 2\n",
    "\n",
    "        if arr[mid] == x:\n",
    "            return mid\n",
    "        \n",
    "        elif arr[mid] > x:\n",
    "            r = mid - 1                                 # 함수 호출 없이 인덱스를 이동\n",
    "        \n",
    "        else:\n",
    "            l = mid + 1                                 # 함수 호출 없이 인덱스를 이동\n",
    "    \n",
    "    return -1\n",
    "\n",
    "# driver code\n",
    "arr = [2,3,4,10,40]\n",
    "x = 10\n",
    "\n",
    "print(binarySearch_iter(arr, 0, len(arr)-1, x))         # 3"
   ]
  },
  {
   "cell_type": "markdown",
   "metadata": {},
   "source": [
    "<h3>2. Merge Sort(합병정렬) : 리스트 정렬 알고리즘 - divde -> sort -> merge</h3>"
   ]
  },
  {
   "cell_type": "code",
   "execution_count": 4,
   "metadata": {},
   "outputs": [
    {
     "name": "stdout",
     "output_type": "stream",
     "text": [
      "[5, 6, 7, 11, 12, 13]\n"
     ]
    }
   ],
   "source": [
    "def mergeSort(arr):\n",
    "    \n",
    "    if len(arr) > 1:                            # base case : 배열의 길이가 1보다 길어야 함\n",
    "        mid = len(arr) // 2                     # mid인덱스 계산\n",
    "        l = arr[:mid]                           # 왼쪽 배열 생성\n",
    "        r = arr[mid:]                           # 오른쪽 배열 생성\n",
    "\n",
    "        mergeSort(l)                            # 왼쪽 배열 정렬\n",
    "        mergeSort(r)                            # 오른쪽 배열 정렬\n",
    "\n",
    "        i = j = k = 0                           # 인덱스 초기화\n",
    "\n",
    "        # merge\n",
    "        while i < len(l) and j < len(r):        # 양쪽 배열 모두 남아있으면\n",
    "            if l[i] < r[j]:                     # 왼쪽 값이 오른쪽 값보다 작으면\n",
    "                arr[k] = l[i]                   # 왼쪽 값을 배열에 넣음\n",
    "                i += 1\n",
    "            else:                               # 오른쪽 값이 더 작으면\n",
    "                arr[k] = r[j]                   # 오른쪽 값을 배열에 넣음\n",
    "                j += 1\n",
    "            k += 1\n",
    "\n",
    "        while i < len(l):                       # 왼쪽 배열에 남아있는게 있으면\n",
    "            arr[k] = l[i]                       # 배열에 하나씩 넣음\n",
    "            i += 1\n",
    "            k += 1\n",
    "        \n",
    "        while j < len(r):                       # 오른쪽 배열에 남아있는게 있으면\n",
    "            arr[k] = r[j]                       # 배열에 하나씩 넣음\n",
    "            j += 1\n",
    "            k += 1\n",
    "            \n",
    "\n",
    "# driver code\n",
    "arr = [12,11,5,13,6,7]\n",
    "mergeSort(arr)\n",
    "print(arr)                                      # [5,6,7,11,12,13]"
   ]
  },
  {
   "cell_type": "markdown",
   "metadata": {},
   "source": [
    "<h3>3. Quick Sort(퀵 정렬) : 리스트 정렬 알고리즘 - pivot기준</h3>"
   ]
  },
  {
   "cell_type": "code",
   "execution_count": 10,
   "metadata": {},
   "outputs": [
    {
     "name": "stdout",
     "output_type": "stream",
     "text": [
      "[1, 5, 7, 8, 9, 10]\n"
     ]
    }
   ],
   "source": [
    "def partition(array, low, high):\n",
    "    \n",
    "    pivot = array[high]                                             # 가장 마지막 값으로 pivot을 설정\n",
    "    i = low - 1\n",
    "\n",
    "    for j in range(low, high):                                      # array를 돌면서\n",
    "        if array[j] <= pivot:                                       # pivot보다 작은 값이 있으면\n",
    "            i += 1\n",
    "            (array[i], array[j]) = (array[j], array[i])             # 앞쪽으로 swap\n",
    "\n",
    "    (array[i+1], array[high]) = (array[high], array[i+1])           # pivot의 값을 가운데로 swap\n",
    "    return i + 1\n",
    "\n",
    "\n",
    "def quickSort(array, low, high):\n",
    "\n",
    "    if low < high:                                                  # base case : array에 하나 이상의 숫자가 존재\n",
    "        pi = partition(array, low, high)                            # pivot을 기준으로 왼쪽을 pivot보다 작게, 오른쪽은 pivot보다 크게 분할  - divide\n",
    "        quickSort(array, low, pi - 1)                               # 왼쪽 array에 대해서 반복                                          - conquer\n",
    "        quickSort(array, pi + 1, high)                              # 오른쪽 array에 대해서 반복                                        -conquer\n",
    "\n",
    "\n",
    "# driver code\n",
    "array = [10,7,8,9,1,5]\n",
    "quickSort(array, 0, len(array) - 1)\n",
    "print(array)                                                        # [1,5,7,8,9,10]"
   ]
  },
  {
   "cell_type": "markdown",
   "metadata": {},
   "source": [
    "<h2>Dynamic Programming</h2>"
   ]
  },
  {
   "cell_type": "markdown",
   "metadata": {},
   "source": [
    "* Subproblem이 전체문제와 크기가 비슷할 때(D&C가 비효율적일때)(ex : N times -> N-1 times -> N-2 times ...) or Subproblem에 중복이 발생할 때 유리(ex : x5 = x3 + x4, x4 = x3 + x2 ...)\n",
    "* 하나의 문제는 한번만 풀도록 하는 알고리즘\n",
    "* Bottom up, Save and Reuse(lookup), clever enumeration\n",
    "* 예시를 통해 수학적 표현을 얻고(recursion) 반복문을 통해 테이블을 채워나가는 방식\n",
    "* Principle of optimality : optimal substructure(subproblem에서의 답은 original problem에서도 동일하다)"
   ]
  },
  {
   "cell_type": "markdown",
   "metadata": {},
   "source": [
    "<h3>1. Fibonacci(피보나치 수열) : fib(n) = fib(n-1) + fib(n-2)</h3>"
   ]
  },
  {
   "cell_type": "markdown",
   "metadata": {},
   "source": [
    "* Recursive implementation(D&C)"
   ]
  },
  {
   "cell_type": "code",
   "execution_count": 11,
   "metadata": {},
   "outputs": [
    {
     "data": {
      "text/plain": [
       "34"
      ]
     },
     "execution_count": 11,
     "metadata": {},
     "output_type": "execute_result"
    }
   ],
   "source": [
    "def Fibonacci(n):\n",
    "    if n < 0:                                       # base code : n은 0 이상\n",
    "        return -1\n",
    "    \n",
    "    elif n == 0 :\n",
    "        return 0\n",
    "    \n",
    "    elif n == 1 or n == 2:\n",
    "        return 1\n",
    "    \n",
    "    else:\n",
    "        return Fibonacci(n-1) + Fibonacci(n-2)      # recursive call\n",
    "\n",
    "# driver code\n",
    "Fibonacci(9)                                        # 34"
   ]
  },
  {
   "cell_type": "markdown",
   "metadata": {},
   "source": [
    "* Dynamic Programing"
   ]
  },
  {
   "cell_type": "code",
   "execution_count": 12,
   "metadata": {},
   "outputs": [
    {
     "data": {
      "text/plain": [
       "34"
      ]
     },
     "execution_count": 12,
     "metadata": {},
     "output_type": "execute_result"
    }
   ],
   "source": [
    "FibArray = [0,1]                                            # lookup table\n",
    "\n",
    "def fibonacci(n):\n",
    "\n",
    "    if n < 0:\n",
    "        return -1\n",
    "    \n",
    "    elif n < len(FibArray):                                 # table에 값이 있으면 reuse\n",
    "        return FibArray[n]\n",
    "\n",
    "    else:\n",
    "        FibArray.append(fibonacci(n-1) + fibonacci(n-2))    # table에 값이 없으면 save\n",
    "        return FibArray[n]\n",
    "\n",
    "# driver code\n",
    "fibonacci(9)                                                # 34"
   ]
  },
  {
   "cell_type": "markdown",
   "metadata": {},
   "source": [
    "* Space optimized(DP)"
   ]
  },
  {
   "cell_type": "code",
   "execution_count": 13,
   "metadata": {},
   "outputs": [
    {
     "data": {
      "text/plain": [
       "34"
      ]
     },
     "execution_count": 13,
     "metadata": {},
     "output_type": "execute_result"
    }
   ],
   "source": [
    "def fibonacci_opt(n):\n",
    "    a = 0\n",
    "    b = 1\n",
    "\n",
    "    if n < 0:\n",
    "        return -1\n",
    "        \n",
    "    elif n == 0:\n",
    "        return a\n",
    "    elif n == 1:\n",
    "        return b\n",
    "\n",
    "    else:\n",
    "        for i in range(1, n):                               # 1 ~ n까지 bottom up으로 계산\n",
    "            c = a + b\n",
    "            a = b\n",
    "            b = c\n",
    "        return b\n",
    "\n",
    "# driver code\n",
    "fibonacci_opt(9)                                            # 34"
   ]
  },
  {
   "cell_type": "markdown",
   "metadata": {},
   "source": [
    "<h3>2. Binomial Coefficient(이항계수) : (n,k) = (n-1,k-1) + (n-1,k)</h3>"
   ]
  },
  {
   "cell_type": "code",
   "execution_count": 14,
   "metadata": {},
   "outputs": [
    {
     "data": {
      "text/plain": [
       "10"
      ]
     },
     "execution_count": 14,
     "metadata": {},
     "output_type": "execute_result"
    }
   ],
   "source": [
    "def binomialCoef(n,k):\n",
    "    C = [[0 for x in range(k+1)]for x in range(n+1)]    # lookup table 초기화\n",
    "\n",
    "    for i in range(n+1):                                # table을 채워나감\n",
    "        for j in range(min(i, k)+1):\n",
    "            if j == 0 or j == i:\n",
    "                C[i][j] = 1\n",
    "            else:\n",
    "                C[i][j] = C[i-1][j-1] + C[i-1][j]\n",
    "    \n",
    "    return C[n][k]                                      # 최종 계산결과 반환\n",
    "\n",
    "# driver code\n",
    "n, k = 5, 2\n",
    "binomialCoef(n,k)                                           # 10"
   ]
  },
  {
   "cell_type": "markdown",
   "metadata": {},
   "source": [
    "<h3>3. Chained Matrix Multiplication(연쇄행렬 최소곱셈) : 주어진 행렬들의 곱을 최소의 연산으로 수행하는 최소 횟수를 구하는 알고리즘</h3>"
   ]
  },
  {
   "cell_type": "markdown",
   "metadata": {},
   "source": [
    "* M[i,j] = min(M[i,k] + M[k+1,j] + C(i-1)*C(k)*C(j)) for i<= k<=j-1, M[i,i] = 0"
   ]
  },
  {
   "cell_type": "code",
   "execution_count": 15,
   "metadata": {},
   "outputs": [
    {
     "data": {
      "text/plain": [
       "18"
      ]
     },
     "execution_count": 15,
     "metadata": {},
     "output_type": "execute_result"
    }
   ],
   "source": [
    "maxint = int(1e9+7)\n",
    "\n",
    "def MatrixChainOrder(p,n):\n",
    "    m = [[0 for x in range(n)] for x in range(n)]           # lookup table 초기화\n",
    "\n",
    "    for i in range(n):\n",
    "        m[i][i] = 0                                         # 자기자신과의 곱셈은 0\n",
    "    \n",
    "    for L in range(2,n):                                    # L = matrix chain의 길이\n",
    "        for i in range(1, n-L + 1):\n",
    "            j = i + L-1\n",
    "            m[i][j] = maxint                                # i번째 matrix부터 j번째 matrix까지의 곱셈횟수를 maxint값으로 초기화\n",
    "\n",
    "            for k in range(i,j):                            # 중간에 나눌 곳을 이동하면서\n",
    "                q = m[i][k] + m[k+1][j] + p[i-1]*p[k]*p[j]  # 곱셈 횟수를 계산\n",
    "                if q < m[i][j]:                             # 현재값보다 적은 횟수가 가능하면\n",
    "                    m[i][j] = q                             # 값을 교체해서 save\n",
    "    \n",
    "    return m[1][n-1]                                        # 최종 계산결과를 반환\n",
    "\n",
    "# driver code\n",
    "arr = [1,2,3,4]\n",
    "MatrixChainOrder(arr, len(arr))                             # 18"
   ]
  },
  {
   "cell_type": "markdown",
   "metadata": {},
   "source": [
    " <h3>4. Floyd Warshall Algorithm : 그래프에서 가능한 모든 노드 쌍에 대해 최단 거리를 구하는 알고리즘</h3>"
   ]
  },
  {
   "cell_type": "markdown",
   "metadata": {},
   "source": [
    "* D(k)[i,j] = min(D(k-1)[i,j], D(k-1)[i,k]+D(k-1)[i,j]) : i~j까지의 최단거리 = k를 경유하지 않는 경우와 k를 경유하는 경우 중 작은 값"
   ]
  },
  {
   "cell_type": "code",
   "execution_count": 20,
   "metadata": {},
   "outputs": [
    {
     "name": "stdout",
     "output_type": "stream",
     "text": [
      "[[0, 5, 8, 9], [99999, 0, 3, 4], [99999, 99999, 0, 1], [99999, 99999, 99999, 0]]\n"
     ]
    }
   ],
   "source": [
    "V = 4\n",
    "INF = 99999\n",
    "\n",
    "def floydWarshall(graph):\n",
    "    dist = graph.copy()                                                     # lookup table 초기화 (=graph)\n",
    "\n",
    "    for k in range(V):                                                      # 경유할 노드를 돌면서\n",
    "        for i in range(V):                                                  # 출발지부터\n",
    "            for j in range(V):                                              # 도착지까지\n",
    "                dist[i][j] = min(dist[i][j], dist[i][k] + dist[k][j])       # 최단거리를 계산하여 save\n",
    "    \n",
    "    print(dist)\n",
    "\n",
    "# driver code\n",
    "graph = [[0,5,INF,10],                                                      #         10\n",
    "         [INF,0,3,INF],                                                     #   (0) ------> (3) \n",
    "         [INF,INF,0,1],                                                     #    |          /|\\\n",
    "         [INF,INF,INF,0]]                                                   #  5 |           | 1\n",
    "                                                                            #   \\|/          |\n",
    "                                                                            #   (1) ------> (2)\n",
    "                                                                            #          3\n",
    "\n",
    "floydWarshall(graph)                                                        # [0,5,8,9],[INF,0,3,4],[INF,INF,0,1],[INF,INF,INF,0]"
   ]
  },
  {
   "cell_type": "markdown",
   "metadata": {},
   "source": [
    "<h3>5. Bellman Ford Algorithm : 한 노드에서 다른 노드까지의 최단거리를 구하는 알고리즘(nagative edge 포함)</h3>"
   ]
  },
  {
   "cell_type": "markdown",
   "metadata": {},
   "source": [
    "* 매번 전체 간선을 하나씩 확인하면서 최단거리 테이블을 갱신\n",
    "* 동일 과정을 반복했을 때 값이 줄어들면 neagative cycle이 존재"
   ]
  },
  {
   "cell_type": "code",
   "execution_count": 21,
   "metadata": {},
   "outputs": [
    {
     "name": "stdout",
     "output_type": "stream",
     "text": [
      "[0, -1, 2, -2, 1]\n"
     ]
    }
   ],
   "source": [
    "class Graph:\n",
    "\n",
    "    def __init__(self, vertices):                                           # 그래프 생성\n",
    "        self.V = vertices\n",
    "        self.graph = []\n",
    "    \n",
    "    def addEdge(self, u, v, w):                                             # 간선 추가\n",
    "        self.graph.append([u,v,w])\n",
    "    \n",
    "    def BellmanFord(self, src):\n",
    "        dist = [float('Inf')] * self.V                                      # lookup table 초기화\n",
    "        dist[src] = 0                                                       # 출발지까지의 거리 = 0\n",
    "\n",
    "        for _ in range(self.V - 1):                                         # 각 노드까지\n",
    "            for u,v,w in self.graph:                                        # 모든 간선을 조사\n",
    "                if dist[u] != float('Inf') and dist[u] + w < dist[v]:       # 간선이 존재하고 이 간선을 지나가는 것이 더 거리가 짧다면\n",
    "                    dist[v] = dist[u] + w                                   # lookup table에 값을 save\n",
    "        \n",
    "        for u,v,w in self.graph:                                            # negative cycle 검사\n",
    "            if dist[u] != float('Inf') and dist[u] + w < dist[v]:           # 최단거리 계산 이후 간선을 추가했을 때 값이 더 줄어들면 negative cycle이 존재한다고 판단\n",
    "                return -1\n",
    "        \n",
    "        print(dist)\n",
    "\n",
    "# driver code\n",
    "graph = [[0,1,-1],\n",
    "         [0,2,4],            \n",
    "         [1,2,3], \n",
    "         [1,3,2], \n",
    "         [1,4,2], \n",
    "         [3,2,5], \n",
    "         [3,1,1], \n",
    "         [4,3,-3]]\n",
    "\n",
    "g = Graph(5)\n",
    "for u,v,w in graph:\n",
    "    g.addEdge(u,v,w)\n",
    "\n",
    "g.BellmanFord(0)                                                            # [0,-1,2,-2,1]"
   ]
  },
  {
   "cell_type": "markdown",
   "metadata": {},
   "source": [
    "<h3>6. 0/1 Knapsack(배낭문제) : 조합 최적화 문제</h3>"
   ]
  },
  {
   "cell_type": "markdown",
   "metadata": {},
   "source": [
    "* 한정된 무게를 담을 수 있는 배낭에 담을 수 있는 최대 가치의 물건 조합을 찾는 문제\n",
    "* P[i,w] = max(P[i-1,w], P[i-1,w-w(i)]+p(i)) : 무게w에서의 배낭의 최대 가치 = i번째 물건을 담지 않았을 때의 가치와 i번째 물건을 담았을 때 배낭의 가치 중 최댓값"
   ]
  },
  {
   "cell_type": "code",
   "execution_count": 22,
   "metadata": {},
   "outputs": [
    {
     "data": {
      "text/plain": [
       "220"
      ]
     },
     "execution_count": 22,
     "metadata": {},
     "output_type": "execute_result"
    }
   ],
   "source": [
    "def knapSack(W, wt, val, n):\n",
    "    K = [[0 for x in range(W+1)] for x in range(n+1)]                   # lookup table 초기화(n * W)\n",
    "\n",
    "    for i in range(n+1):\n",
    "        for w in range(W+1):                                            # table을 돌면서\n",
    "            if i == 0 or w == 0:\n",
    "                K[i][w] = 0\n",
    "            elif wt[i-1] <= w:                                          # 물건의 무게가 여유공간보다 작으면(w : 배낭의 여유공간)\n",
    "                K[i][w] = max(K[i-1][w], K[i-1][w-wt[i-1]]+val[i-1])    # 물건을 담았을 때와 담지 않았을 때의 가치를 비교하여 더 큰 값을 save\n",
    "            else:                                                       # 물건의 무게가 여유공간보다 크면\n",
    "                K[i][w] = K[i-1][w]                                     # 물건을 넣지 않음\n",
    "    \n",
    "    return K[n][W]                                                      # 계산 결과값을 반환\n",
    "\n",
    "# driver code\n",
    "val = [60,100,120]\n",
    "wt = [10,20,30]\n",
    "W = 50\n",
    "n = len(val)\n",
    "knapSack(W, wt, val, n)                                                 # 220"
   ]
  },
  {
   "cell_type": "markdown",
   "metadata": {},
   "source": [
    "<h3>7. Subset Sum(부분집합 합 문제)</h3>"
   ]
  },
  {
   "cell_type": "markdown",
   "metadata": {},
   "source": [
    "* 집합의 원소의 합이 특정값이 되는지 판단하는 문제\n",
    "* Knapsack의 Special case"
   ]
  },
  {
   "cell_type": "code",
   "execution_count": 24,
   "metadata": {},
   "outputs": [
    {
     "data": {
      "text/plain": [
       "True"
      ]
     },
     "execution_count": 24,
     "metadata": {},
     "output_type": "execute_result"
    }
   ],
   "source": [
    "def isSubsetSum(set, n, sum):\n",
    "    subset = [[False for i in range(sum + 1)] for i in range(n + 1)]                # lookup table 초기화(n * sum)\n",
    "\n",
    "    for i in range(n + 1):\n",
    "        subset[i][0] = True\n",
    "\n",
    "        for i in range(1, sum + 1):\n",
    "            subset[0][i] = False\n",
    "        \n",
    "        for i in range(1, n + 1):\n",
    "            for j in range(1, sum + 1):                                             # table을 돌면서\n",
    "                if j < set[i-1]:                                                    # 집합의 원소가 target보다 크면 넘어감\n",
    "                    subset[i][j] = subset[i-1][j]\n",
    "                else:                                                               # 집합의 원소가 target보다 작으면\n",
    "                    subset[i][j] = subset[i-1][j] or subset[i-1][j-set[i-1]]        # 선택하거나 선택하지 않았을 때 target이 나오는지 판단\n",
    "\n",
    "    return subset[n][sum]                                                           # 계산 결과를 반환\n",
    "\n",
    "# driver code\n",
    "set = [3,34,4,12,5,2]\n",
    "sum = 9\n",
    "n = len(set)\n",
    "isSubsetSum(set, n, sum)                                                            # True"
   ]
  },
  {
   "cell_type": "markdown",
   "metadata": {},
   "source": [
    "<h3>8. Optimal BST(최적 이진탐색트리)</h3>"
   ]
  },
  {
   "cell_type": "markdown",
   "metadata": {},
   "source": [
    "* 이진탐색트리에서 평균 탐색 횟수를 최소로 만드는 이진탐색트리\n",
    "*  키와 각 키가 검색될 확률이 주어지면 평균계산횟수를 반환\n",
    "* C[i][j] = min(C[i][k-1]+C[k+1][j] + sum(freq)i->j)\n",
    "* cost = frequency * 탐색횟수\n",
    "* CMM과 비슷한 논리(k1~kn을 3등분하여 반복)"
   ]
  },
  {
   "cell_type": "code",
   "execution_count": 36,
   "metadata": {},
   "outputs": [
    {
     "data": {
      "text/plain": [
       "142"
      ]
     },
     "execution_count": 36,
     "metadata": {},
     "output_type": "execute_result"
    }
   ],
   "source": [
    "INT_MAX = 214783647\n",
    "\n",
    "def optimalSearchTree(keys, freq, n):\n",
    "    cost = [[0 for x in range(n)] for x in range(n)]            # lookup table 초기화\n",
    "\n",
    "    for i in range(n):\n",
    "        cost[i][i] = freq[i]                                    # main diagonal = freq \n",
    "    \n",
    "    for L in range(2, n+1):\n",
    "        for i in range(n-L+1):\n",
    "            j = i + L - 1\n",
    "            off_set_sum = sum(freq, i, j)                       # root에서의 탐색 cost(모든 노드는 root에서 탐색을 한번 수행)\n",
    "            cost[i][j] = INT_MAX\n",
    "\n",
    "            for r in range(i, j+1):\n",
    "                c = 0\n",
    "                if r > i:                                       # left subtree의 탐색 cost\n",
    "                    c += cost[i][r-1]\n",
    "                if r < j:\n",
    "                    c += cost[r+1][j]                           # right subtree의 탐색 cost\n",
    "                c += off_set_sum                                # root에서의 탐색 cost\n",
    "                if c < cost[i][j]:\n",
    "                    cost[i][j] = c                              # cost가 작은 값을 save\n",
    "    \n",
    "    return cost[0][n-1]                                         # 계산 결과를 반환\n",
    "\n",
    "def sum(freq, i, j):                                            # i부터 j까지 frequency의 합\n",
    "    s = 0\n",
    "    for k in range(i, j + 1):\n",
    "        s += freq[k]\n",
    "    return s\n",
    "\n",
    "# driver code\n",
    "keys = [10,12,20]\n",
    "freq = [34,8,50]\n",
    "n = len(keys)\n",
    "optimalSearchTree(keys, freq, n)                                # 142"
   ]
  }
 ],
 "metadata": {
  "kernelspec": {
   "display_name": "Python 3.10.5 64-bit",
   "language": "python",
   "name": "python3"
  },
  "language_info": {
   "codemirror_mode": {
    "name": "ipython",
    "version": 3
   },
   "file_extension": ".py",
   "mimetype": "text/x-python",
   "name": "python",
   "nbconvert_exporter": "python",
   "pygments_lexer": "ipython3",
   "version": "3.10.5"
  },
  "orig_nbformat": 4,
  "vscode": {
   "interpreter": {
    "hash": "d1fd6a4f7085ef63995166c6d898011fbd26ee819977a1271ad2eae9b03c83d3"
   }
  }
 },
 "nbformat": 4,
 "nbformat_minor": 2
}
