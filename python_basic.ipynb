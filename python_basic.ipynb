{
 "cells": [
  {
   "cell_type": "markdown",
   "metadata": {},
   "source": [
    "<h1>코딩테스트 대비 파이썬 문법정리</h1>"
   ]
  },
  {
   "cell_type": "markdown",
   "metadata": {},
   "source": [
    "<h2>내장함수</h2>"
   ]
  },
  {
   "cell_type": "markdown",
   "metadata": {},
   "source": [
    "1. abs : 정수, 부동소수점, 복소수 --> 절댓값"
   ]
  },
  {
   "cell_type": "code",
   "execution_count": 1,
   "metadata": {},
   "outputs": [
    {
     "name": "stdout",
     "output_type": "stream",
     "text": [
      "10\n",
      "10.0\n",
      "10\n",
      "5.0\n"
     ]
    }
   ],
   "source": [
    "print(abs(10))             # 10\n",
    "print(abs(10.0))           # 10.0\n",
    "print(abs(-10))            # 10\n",
    "print(abs(complex(3,4)))   # 5"
   ]
  },
  {
   "cell_type": "markdown",
   "metadata": {},
   "source": [
    "2. all : 모두 참이면 True, 하나라도 거짓이면 False"
   ]
  },
  {
   "cell_type": "code",
   "execution_count": 5,
   "metadata": {},
   "outputs": [
    {
     "name": "stdout",
     "output_type": "stream",
     "text": [
      "True\n",
      "True\n",
      "False\n"
     ]
    }
   ],
   "source": [
    "print(all([]))             # True(빈 배열은 모두 참이면서 모두 거짓)\n",
    "print(all([1,2,3]))        # True\n",
    "print(all([0,1,2]))        # False"
   ]
  },
  {
   "cell_type": "markdown",
   "metadata": {},
   "source": [
    "3. any : 하나라도 참이면 True, 모두 거짓이면 False"
   ]
  },
  {
   "cell_type": "code",
   "execution_count": 4,
   "metadata": {},
   "outputs": [
    {
     "name": "stdout",
     "output_type": "stream",
     "text": [
      "False\n",
      "True\n",
      "True\n",
      "False\n"
     ]
    }
   ],
   "source": [
    "print(any([]))              # False(빈 배열은 모두 참이면서 모두 거짓)\n",
    "print(any([1,2,3]))         # True\n",
    "print(any([0,1,2]))         # True\n",
    "print(any([0,0,0]))         # False"
   ]
  },
  {
   "cell_type": "markdown",
   "metadata": {},
   "source": [
    "4. ascii : 비 아스키 문자열을 유니코드로 변환"
   ]
  },
  {
   "cell_type": "code",
   "execution_count": 7,
   "metadata": {},
   "outputs": [
    {
     "name": "stdout",
     "output_type": "stream",
     "text": [
      "1\n",
      "'a'\n",
      "'\\u3131'\n"
     ]
    }
   ],
   "source": [
    "print(ascii(1))        # 1\n",
    "print(ascii('a'))      # a\n",
    "print(ascii('ㄱ'))     # \\u3131(유니코드)"
   ]
  },
  {
   "cell_type": "markdown",
   "metadata": {},
   "source": [
    "5. repr : 문자열로 객체를 다시 생성"
   ]
  },
  {
   "cell_type": "code",
   "execution_count": null,
   "metadata": {},
   "outputs": [],
   "source": [
    "print(ascii(1))        # 1\n",
    "print(ascii('a'))      # a\n",
    "print(ascii('ㄱ'))     # 'ㄱ'"
   ]
  },
  {
   "cell_type": "markdown",
   "metadata": {},
   "source": [
    "6. bin : 정수 -> 2진수(문자열)"
   ]
  },
  {
   "cell_type": "code",
   "execution_count": 14,
   "metadata": {},
   "outputs": [
    {
     "name": "stdout",
     "output_type": "stream",
     "text": [
      "0b10\n",
      "0b10-0b1010\n"
     ]
    }
   ],
   "source": [
    "print(bin(2))               # 0b10\n",
    "print(bin(2) + bin(-10))    # 0b10-0b1010(+ : 문자열 연산)"
   ]
  },
  {
   "cell_type": "markdown",
   "metadata": {},
   "source": [
    "7. oct : 정수 -> 8진수(문자열)"
   ]
  },
  {
   "cell_type": "code",
   "execution_count": 12,
   "metadata": {},
   "outputs": [
    {
     "name": "stdout",
     "output_type": "stream",
     "text": [
      "0o2\n",
      "0o2-0o12\n"
     ]
    }
   ],
   "source": [
    "print(oct(2))               # 0o2\n",
    "print(oct(2) + oct(-10))    # 0o2-0o12(+ : 문자열 연산)"
   ]
  },
  {
   "cell_type": "markdown",
   "metadata": {},
   "source": [
    "8. hex : 정수 -> 16진수(문자열)"
   ]
  },
  {
   "cell_type": "code",
   "execution_count": 13,
   "metadata": {},
   "outputs": [
    {
     "name": "stdout",
     "output_type": "stream",
     "text": [
      "0x2\n",
      "0x2-0xa\n"
     ]
    }
   ],
   "source": [
    "print(hex(2))               # 0x2\n",
    "print(hex(2) + hex(-10))    # 0x2-0xa(+ : 문자열 연산)"
   ]
  },
  {
   "cell_type": "markdown",
   "metadata": {},
   "source": [
    "9. bool : 진리값 판정"
   ]
  },
  {
   "cell_type": "code",
   "execution_count": 15,
   "metadata": {},
   "outputs": [
    {
     "name": "stdout",
     "output_type": "stream",
     "text": [
      "False\n",
      "False\n",
      "False\n",
      "False\n",
      "False\n",
      "False\n",
      "False\n",
      "True\n",
      "True\n",
      "True\n",
      "True\n",
      "True\n"
     ]
    }
   ],
   "source": [
    "print(bool())           # False\n",
    "\n",
    "# 비어있으면 False\n",
    "print(bool(None))\n",
    "print(bool(False))\n",
    "print(bool(0))\n",
    "print(bool([]))\n",
    "print(bool(''))\n",
    "print(bool({}))\n",
    "\n",
    "# 뭐라도 들어있으면 True\n",
    "print(bool(True))\n",
    "print(bool(1))\n",
    "print(bool([False]))\n",
    "print(bool('None'))\n",
    "print(bool({'key':None}))"
   ]
  },
  {
   "cell_type": "markdown",
   "metadata": {},
   "source": [
    "10. bytes : immutable byte배열을 반환"
   ]
  },
  {
   "cell_type": "code",
   "execution_count": 19,
   "metadata": {},
   "outputs": [
    {
     "name": "stdout",
     "output_type": "stream",
     "text": [
      "b'abc'\n",
      "b'\\x00\\x00\\x00'\n"
     ]
    }
   ],
   "source": [
    "print(bytes('abc', encoding='utf-8'))       # b'abc'\n",
    "print(bytes(3))                             # b'\\x00\\x00\\x00'"
   ]
  },
  {
   "cell_type": "markdown",
   "metadata": {},
   "source": [
    "11. bytearray : mutable byte배열을 반환"
   ]
  },
  {
   "cell_type": "code",
   "execution_count": 20,
   "metadata": {},
   "outputs": [
    {
     "name": "stdout",
     "output_type": "stream",
     "text": [
      "bytearray(b'abc')\n",
      "bytearray(b'\\x00\\x00\\x00')\n"
     ]
    }
   ],
   "source": [
    "print(bytearray('abc', encoding='utf-8'))       # bytearray(b'abc')\n",
    "print(bytearray(3))                             # bytearray(b'\\x00\\x00\\x00')"
   ]
  },
  {
   "cell_type": "markdown",
   "metadata": {},
   "source": [
    "12. chr : 정수 -> 문자(유니코드)"
   ]
  },
  {
   "cell_type": "code",
   "execution_count": 22,
   "metadata": {},
   "outputs": [
    {
     "name": "stdout",
     "output_type": "stream",
     "text": [
      "a\n"
     ]
    }
   ],
   "source": [
    "print(chr(97))          # 'a'"
   ]
  },
  {
   "cell_type": "markdown",
   "metadata": {},
   "source": [
    "13. ord : 문자 -> 정수(유니코드)"
   ]
  },
  {
   "cell_type": "code",
   "execution_count": 23,
   "metadata": {},
   "outputs": [
    {
     "name": "stdout",
     "output_type": "stream",
     "text": [
      "97\n"
     ]
    }
   ],
   "source": [
    "print(ord('a'))         # 97"
   ]
  },
  {
   "cell_type": "markdown",
   "metadata": {},
   "source": [
    "14. int, float, complex : 정수, 부동소수점, 복소수 객체 반환"
   ]
  },
  {
   "cell_type": "code",
   "execution_count": 27,
   "metadata": {},
   "outputs": [
    {
     "name": "stdout",
     "output_type": "stream",
     "text": [
      "0\n",
      "10\n",
      "1\n",
      "0\n",
      "0.0\n",
      "1.0\n",
      "0.0\n",
      "nan\n",
      "inf\n",
      "-inf\n",
      "0j\n",
      "(1+2j)\n",
      "(1+2j)\n"
     ]
    }
   ],
   "source": [
    "# int\n",
    "from cmath import inf\n",
    "\n",
    "\n",
    "print(int())                # 0\n",
    "print(int(10.5))            # 10\n",
    "print(int(True))            # 1\n",
    "print(int(False))           # 0\n",
    "\n",
    "# float\n",
    "print(float())              # 0.0\n",
    "print(float(True))          # 1.0\n",
    "print(float(False))         # 0.0\n",
    "print(float('nan'))         # nan\n",
    "print(float('Infinity'))    # inf\n",
    "print(float('-infinity'))   # -inf\n",
    "\n",
    "# complex\n",
    "print(complex())            # 0j\n",
    "print(complex('1+2j'))      # 1+2j\n",
    "print(complex(1,2))         # 1+2j"
   ]
  },
  {
   "cell_type": "markdown",
   "metadata": {},
   "source": [
    "15. dict : 딕셔너리 객체 생성"
   ]
  },
  {
   "cell_type": "code",
   "execution_count": 31,
   "metadata": {},
   "outputs": [
    {
     "name": "stdout",
     "output_type": "stream",
     "text": [
      "{}\n",
      "{'a': [1, 2, 3]}\n"
     ]
    }
   ],
   "source": [
    "print(dict())               # {}\n",
    "print(dict({'a':[1,2,3]}))  #{'a':[1,2,3]}"
   ]
  },
  {
   "cell_type": "markdown",
   "metadata": {},
   "source": [
    "16. divmod : 앞의 수를 뒤의 수로 나눴을 때 몫과 나머지를 반환(튜플)"
   ]
  },
  {
   "cell_type": "code",
   "execution_count": 34,
   "metadata": {},
   "outputs": [
    {
     "name": "stdout",
     "output_type": "stream",
     "text": [
      "(3, 1)\n",
      "(5, 0)\n",
      "(0, 0)\n",
      "(3.0, 1.0)\n"
     ]
    }
   ],
   "source": [
    "print(divmod(10,3))         # (3,1)\n",
    "print(divmod(10,2))         # (5,0)\n",
    "print(divmod(0,10))         # (0,10)\n",
    "print(divmod(10.0,3.0))     # (3.0,1.0)"
   ]
  },
  {
   "cell_type": "markdown",
   "metadata": {},
   "source": [
    "17. enumerate : iterable한 객체를 인덱스와 요소의 쌍으로 변환"
   ]
  },
  {
   "cell_type": "code",
   "execution_count": 37,
   "metadata": {},
   "outputs": [
    {
     "name": "stdout",
     "output_type": "stream",
     "text": [
      "[(0, 'a'), (1, 'b'), (2, 'c')]\n"
     ]
    }
   ],
   "source": [
    "print([(i,v) for i,v in enumerate(['a','b','c'])])      # [(0,'a'),(1,'b'),(2,'c')]"
   ]
  },
  {
   "cell_type": "markdown",
   "metadata": {},
   "source": [
    "18. eval : 주어진 문자열 표현식을 평가, 평과결과를 반환"
   ]
  },
  {
   "cell_type": "code",
   "execution_count": 39,
   "metadata": {},
   "outputs": [
    {
     "name": "stdout",
     "output_type": "stream",
     "text": [
      "8\n"
     ]
    }
   ],
   "source": [
    "a, b = 5, 3\n",
    "print(eval('a+b'))      # 8"
   ]
  },
  {
   "cell_type": "markdown",
   "metadata": {},
   "source": [
    "19. exec : 주어진 문자열의 문장을 실행, None을 반환"
   ]
  },
  {
   "cell_type": "code",
   "execution_count": 42,
   "metadata": {},
   "outputs": [
    {
     "name": "stdout",
     "output_type": "stream",
     "text": [
      "8\n",
      "None\n"
     ]
    }
   ],
   "source": [
    "print(exec('a, b = 5, 3; c = a + b; print(c)'))           # 8, None"
   ]
  },
  {
   "cell_type": "markdown",
   "metadata": {},
   "source": [
    "20. filter : iterable객체를 인수로 조건에 맞는 요소를 추출(filter(func, iterable))"
   ]
  },
  {
   "cell_type": "code",
   "execution_count": 45,
   "metadata": {},
   "outputs": [
    {
     "name": "stdout",
     "output_type": "stream",
     "text": [
      "[3, 4, 5]\n",
      "[1, 2, 3, 4]\n"
     ]
    }
   ],
   "source": [
    "print(list(filter(lambda x : x>2 , [0,1,2,3,4,5])))     # [3,4,5]\n",
    "print(list(filter(None, [0,1,2,3,4])))                  # [1,2,3,4](False가 걸러짐)"
   ]
  },
  {
   "cell_type": "markdown",
   "metadata": {},
   "source": [
    "21. map : iterable객체를 인수로 함수를 적용한 목록을 반환(map(func, iterable))"
   ]
  },
  {
   "cell_type": "code",
   "execution_count": 46,
   "metadata": {},
   "outputs": [
    {
     "name": "stdout",
     "output_type": "stream",
     "text": [
      "[0, 2, 4, 6, 8, 10]\n",
      "[1, 0, 0, 1, 0]\n"
     ]
    }
   ],
   "source": [
    "print(list(map(lambda x : x*2, [0,1,2,3,4,5])))                         # [0,2,4,6,8,10]\n",
    "print(list(map(lambda x,y : int(x==y), [1,2,3,4,5], [1,3,5,4,2])))      # [1,0,0,1,0]"
   ]
  },
  {
   "cell_type": "markdown",
   "metadata": {},
   "source": [
    "22. set, frozenset : set객체 반환(set : mutable, frozenset : immutable)"
   ]
  },
  {
   "cell_type": "code",
   "execution_count": 48,
   "metadata": {},
   "outputs": [
    {
     "name": "stdout",
     "output_type": "stream",
     "text": [
      "{1, 2, 3}\n",
      "frozenset({1, 2, 3})\n"
     ]
    }
   ],
   "source": [
    "print(set([1,1,2,3]))                   # {1,2,3}\n",
    "print(frozenset([1,1,2,3]))             # frozenset({1,2,3})"
   ]
  },
  {
   "cell_type": "markdown",
   "metadata": {},
   "source": [
    "23. hash : 객체의 해시값을 반환"
   ]
  },
  {
   "cell_type": "code",
   "execution_count": 50,
   "metadata": {},
   "outputs": [
    {
     "name": "stdout",
     "output_type": "stream",
     "text": [
      "1\n",
      "1\n",
      "-5699298998314048968\n"
     ]
    }
   ],
   "source": [
    "print(hash(1))          # 1\n",
    "print(hash(1.0))        # 1\n",
    "print(hash('a'))        # -5699298998314048968"
   ]
  },
  {
   "cell_type": "markdown",
   "metadata": {},
   "source": [
    "24. id : 객체의 식별자를 반환"
   ]
  },
  {
   "cell_type": "code",
   "execution_count": 52,
   "metadata": {},
   "outputs": [
    {
     "name": "stdout",
     "output_type": "stream",
     "text": [
      "4525964544\n",
      "4525964544\n",
      "4354334968\n",
      "4354335000\n"
     ]
    }
   ],
   "source": [
    "# mutable객체는 식별자가 변하지 않음\n",
    "arr = [1,2,3]\n",
    "print(id(arr))\n",
    "arr[2] = 4\n",
    "print(id(arr))\n",
    "\n",
    "# immutable객체는 식별자가 변함\n",
    "a = 1\n",
    "print(id(a))\n",
    "a = 2\n",
    "print(id(a))"
   ]
  },
  {
   "cell_type": "markdown",
   "metadata": {},
   "source": [
    "25. isinstance : 첫번째 인수가 두번째 인수의 객체인지 판단(isinstance(obj, type))"
   ]
  },
  {
   "cell_type": "code",
   "execution_count": 54,
   "metadata": {},
   "outputs": [
    {
     "name": "stdout",
     "output_type": "stream",
     "text": [
      "True\n",
      "False\n"
     ]
    }
   ],
   "source": [
    "print(isinstance(1,int))            # True\n",
    "print(isinstance('1', int))         # False"
   ]
  },
  {
   "cell_type": "markdown",
   "metadata": {},
   "source": [
    "26. issubclass : 첫번째 인수가 두번째 인수의 서브클래스인지 판단(issubclass(sub,whole))"
   ]
  },
  {
   "cell_type": "code",
   "execution_count": 55,
   "metadata": {},
   "outputs": [
    {
     "name": "stdout",
     "output_type": "stream",
     "text": [
      "True\n",
      "False\n"
     ]
    }
   ],
   "source": [
    "print(issubclass(int, object))      # True\n",
    "print(issubclass(int, str))         # False"
   ]
  },
  {
   "cell_type": "markdown",
   "metadata": {},
   "source": [
    "27. iter, next : 각각 객체의 iterator를 반환하고, 값을 꺼냄"
   ]
  },
  {
   "cell_type": "code",
   "execution_count": 58,
   "metadata": {},
   "outputs": [
    {
     "name": "stdout",
     "output_type": "stream",
     "text": [
      "1\n",
      "2\n",
      "3\n"
     ]
    }
   ],
   "source": [
    "it = iter([1,2,3])\n",
    "print(next(it))         # 1\n",
    "print(next(it))         # 2\n",
    "print(next(it))         # 3"
   ]
  },
  {
   "cell_type": "markdown",
   "metadata": {},
   "source": [
    "28. len : 객체의 길이 또는 요소의 수를 반환"
   ]
  },
  {
   "cell_type": "code",
   "execution_count": 59,
   "metadata": {},
   "outputs": [
    {
     "name": "stdout",
     "output_type": "stream",
     "text": [
      "3\n",
      "3\n",
      "3\n"
     ]
    }
   ],
   "source": [
    "print(len('ABC'))                       # 3\n",
    "print(len([1,2,3]))                     # 3\n",
    "print(len({'a':1, 'b':2, 'c':3}))       # 3"
   ]
  },
  {
   "cell_type": "markdown",
   "metadata": {},
   "source": [
    "29. list : 리스트 객체를 반환"
   ]
  },
  {
   "cell_type": "code",
   "execution_count": 60,
   "metadata": {},
   "outputs": [
    {
     "name": "stdout",
     "output_type": "stream",
     "text": [
      "[]\n",
      "['A', 'B', 'C']\n",
      "['a', 'b']\n"
     ]
    }
   ],
   "source": [
    "print(list())                   # []\n",
    "print(list('ABC'))              # ['A','B','C']\n",
    "print(list({'a':1, 'b':2}))     # ['a','b']"
   ]
  },
  {
   "cell_type": "markdown",
   "metadata": {},
   "source": [
    "30. max, min : iterable객체의 최대, 최솟값을 반환(max/min(iterable, key=func, default=result))"
   ]
  },
  {
   "cell_type": "code",
   "execution_count": 62,
   "metadata": {},
   "outputs": [
    {
     "name": "stdout",
     "output_type": "stream",
     "text": [
      "5\n",
      "1\n",
      "3\n",
      "-1\n"
     ]
    }
   ],
   "source": [
    "print(max([1,2,3,4,5]))                         # 5\n",
    "print(min([1,2,3,4,5]))                         # 1\n",
    "print(max([1,2,3,4,5], key=lambda x: x%4))      # 3\n",
    "print(min([], default=-1))                      # -1"
   ]
  },
  {
   "cell_type": "markdown",
   "metadata": {},
   "source": [
    "31. pow : 거듭제곱(pow(a,b,c) : a ** b % c)"
   ]
  },
  {
   "cell_type": "code",
   "execution_count": 69,
   "metadata": {},
   "outputs": [
    {
     "name": "stdout",
     "output_type": "stream",
     "text": [
      "1024\n",
      "4\n"
     ]
    }
   ],
   "source": [
    "print(pow(2, 10))               # 1024\n",
    "print(pow(2, 10, 10))           # 4"
   ]
  },
  {
   "cell_type": "markdown",
   "metadata": {},
   "source": [
    "32. range : 첫번째 인수부터 두번째 인수까지의 정수의 연속 값을 iterable객체로 반환(range(a=0,b,c=step) : a <= x < b)"
   ]
  },
  {
   "cell_type": "code",
   "execution_count": 72,
   "metadata": {},
   "outputs": [
    {
     "name": "stdout",
     "output_type": "stream",
     "text": [
      "[0, 1, 2]\n",
      "[2, 3, 4]\n",
      "[1, 4, 7]\n"
     ]
    }
   ],
   "source": [
    "print(list(range(3)))               # [0,1,2]\n",
    "print(list(range(2,5)))             # [2,3,4]\n",
    "print(list(range(1,10,3)))          # [1,4,7]"
   ]
  },
  {
   "cell_type": "markdown",
   "metadata": {},
   "source": [
    "33. reversed : iterable객체를 역순으로 반환(return type : iterable)"
   ]
  },
  {
   "cell_type": "code",
   "execution_count": 78,
   "metadata": {},
   "outputs": [
    {
     "name": "stdout",
     "output_type": "stream",
     "text": [
      "[5, 4, 3, 2, 1]\n",
      "(5, 4, 3, 2, 1)\n"
     ]
    }
   ],
   "source": [
    "print(list(reversed([1,2,3,4,5])))      # [5,4,3,2,1]\n",
    "print(tuple(reversed((1,2,3,4,5))))     # (5,4,3,2,1)"
   ]
  },
  {
   "cell_type": "markdown",
   "metadata": {},
   "source": [
    "34. round : 첫번째 인수를 두번째 인수의 자리에서 반올림<br>\n",
    "(반올림 할 자리의 숫자가 5면 앞자리가 짝수면 내림, 홀수면 올림)"
   ]
  },
  {
   "cell_type": "code",
   "execution_count": 85,
   "metadata": {},
   "outputs": [
    {
     "name": "stdout",
     "output_type": "stream",
     "text": [
      "5\n",
      "5.3\n",
      "5.346\n",
      "5.34\n",
      "5.36\n",
      "10.0\n"
     ]
    }
   ],
   "source": [
    "print(round(5.345))             # 5\n",
    "print(round(5.345, 1))          # 5.3\n",
    "print(round(5.3456, 3))         # 5.346\n",
    "print(round(5.345, 2))          # 5.34(내림)\n",
    "print(round(5.355, 2))          # 5.36(올림)\n",
    "print(round(5.345, -1))         # 10.0"
   ]
  },
  {
   "cell_type": "markdown",
   "metadata": {},
   "source": [
    "35. slice : 슬라이싱(slice(start, end, step))"
   ]
  },
  {
   "cell_type": "code",
   "execution_count": 91,
   "metadata": {},
   "outputs": [
    {
     "name": "stdout",
     "output_type": "stream",
     "text": [
      "[1, 3, 5]\n",
      "[1, 3, 5]\n"
     ]
    }
   ],
   "source": [
    "arr = [0,1,2,3,4,5,6]\n",
    "print(arr[slice(1,6,2)])           # [1,3,5]\n",
    "print(arr[1:6:2])                  # [1,3,5]"
   ]
  },
  {
   "cell_type": "markdown",
   "metadata": {},
   "source": [
    "36. sorted : iterable객체를 정렬한 리스트를 반환(sorted(iterable, key=func, reverse=bool))"
   ]
  },
  {
   "cell_type": "code",
   "execution_count": 95,
   "metadata": {},
   "outputs": [
    {
     "name": "stdout",
     "output_type": "stream",
     "text": [
      "[1, 2, 3, 4, 5]\n",
      "[5, 4, 3, 2, 1]\n",
      "[3, 1, 4, 2, 5]\n"
     ]
    }
   ],
   "source": [
    "arr = [3,1,2,5,4]\n",
    "print(sorted(arr))                                      # [1,2,3,4,5]\n",
    "print(sorted(arr, reverse=True))                        # [5,4,3,2,1]\n",
    "print(sorted(arr, key=lambda x : x % 3))                # [3,1,4,2,5]"
   ]
  },
  {
   "cell_type": "markdown",
   "metadata": {},
   "source": [
    "37. str : 인수를 문자열로 변환"
   ]
  },
  {
   "cell_type": "code",
   "execution_count": 96,
   "metadata": {},
   "outputs": [
    {
     "name": "stdout",
     "output_type": "stream",
     "text": [
      "True\n",
      "1\n",
      "1.23\n",
      "[1, 2, 3]\n",
      "{'a': 1, 'b': 2}\n"
     ]
    }
   ],
   "source": [
    "print(str(True))                # 'True'\n",
    "print(str(1))                   # '1'\n",
    "print(str(1.23))                # '1.23'\n",
    "print(str([1,2,3]))             # '[1,2,3]'\n",
    "print(str({'a':1, 'b':2}))      # \"{'a':1, 'b':2}\"                      "
   ]
  },
  {
   "cell_type": "markdown",
   "metadata": {},
   "source": [
    "38. sum : iterable객체의 요소들의 합을 반환(sum(iterable, initial))"
   ]
  },
  {
   "cell_type": "code",
   "execution_count": 97,
   "metadata": {},
   "outputs": [
    {
     "name": "stdout",
     "output_type": "stream",
     "text": [
      "6\n",
      "9\n"
     ]
    }
   ],
   "source": [
    "print(sum([1,2,3]))             # 6\n",
    "print(sum([1,2,3], 3))          # 9"
   ]
  },
  {
   "cell_type": "markdown",
   "metadata": {},
   "source": [
    "39. tuple : 튜플 객체를 생성"
   ]
  },
  {
   "cell_type": "code",
   "execution_count": 98,
   "metadata": {},
   "outputs": [
    {
     "name": "stdout",
     "output_type": "stream",
     "text": [
      "()\n",
      "(1, 2, 3)\n",
      "('a', 'b', 'c')\n"
     ]
    }
   ],
   "source": [
    "print(tuple())                  # ()\n",
    "print(tuple([1,2,3]))           # (1,2,3)\n",
    "print(tuple('abc'))             # ('a','b','c')"
   ]
  },
  {
   "cell_type": "markdown",
   "metadata": {},
   "source": [
    "40. type : 인수의 type을 반환"
   ]
  },
  {
   "cell_type": "code",
   "execution_count": 100,
   "metadata": {},
   "outputs": [
    {
     "name": "stdout",
     "output_type": "stream",
     "text": [
      "<class 'int'>\n",
      "<class 'float'>\n",
      "<class 'complex'>\n",
      "<class 'str'>\n",
      "<class 'list'>\n",
      "<class 'tuple'>\n",
      "<class 'set'>\n",
      "<class 'dict'>\n"
     ]
    }
   ],
   "source": [
    "print(type(1))                  # int\n",
    "print(type(1.1))                # float\n",
    "print(type(complex(1,2)))       # complex\n",
    "print(type('abc'))              # str\n",
    "print(type([1,2,3]))            # list\n",
    "print(type((1,2,3)))            # tuple\n",
    "print(type(set([1,2,3])))       # set\n",
    "print(type({'a':1}))            # dict"
   ]
  },
  {
   "cell_type": "markdown",
   "metadata": {},
   "source": [
    "41. zip : 각각의 iterable을 모은 iterable을 생성(짧은 iterable이 기준)"
   ]
  },
  {
   "cell_type": "code",
   "execution_count": 105,
   "metadata": {},
   "outputs": [
    {
     "name": "stdout",
     "output_type": "stream",
     "text": [
      "[(1, 'a'), (2, 'b'), (3, 'c')]\n",
      "[(1, 'a'), (2, 'b'), (3, 'c')]\n",
      "(1, 'a', 0)\n",
      "(2, 'b', 9)\n",
      "(3, 'c', 8)\n",
      "(4, 'd', 7)\n",
      "(5, 'e', 6)\n"
     ]
    }
   ],
   "source": [
    "print(list(zip([1,2,3], ('a','b','c'))))                # [(1,'a'), (2,'b'), (3,'c')]\n",
    "print(list(zip([1,2,3,4,5], ('a', 'b', 'c'))))          # [(1,'a'), (2,'b'), (3,'c')]\n",
    "\n",
    "# 활용\n",
    "arr1 = [1,2,3,4,5]\n",
    "arr2 = ['a','b','c','d','e']\n",
    "arr3 = [0,9,8,7,6]\n",
    "\n",
    "for i,j,k in zip(arr1,arr2,arr3):\n",
    "    print((i,j,k))"
   ]
  },
  {
   "cell_type": "markdown",
   "metadata": {},
   "source": [
    "<h2>String Methods</h2>"
   ]
  },
  {
   "cell_type": "markdown",
   "metadata": {},
   "source": [
    "1. count : 문자열에서 특정 문자가 등장하는 횟수를 반환(string.count(x,start,end))"
   ]
  },
  {
   "cell_type": "code",
   "execution_count": 3,
   "metadata": {},
   "outputs": [
    {
     "name": "stdout",
     "output_type": "stream",
     "text": [
      "2\n",
      "1\n",
      "0\n"
     ]
    }
   ],
   "source": [
    "print(\"Hello python\".count('o'))                # 2\n",
    "print(\"Hello python\".count('o', 5))             # 1\n",
    "print(\"Hello python\".count('o', 5,8))           # 0"
   ]
  },
  {
   "cell_type": "markdown",
   "metadata": {},
   "source": [
    "2. find, index : 문자열에 특정문자가 있는지 찾고 인덱스를 반환(index : 없으면 예외처리)"
   ]
  },
  {
   "cell_type": "code",
   "execution_count": 30,
   "metadata": {},
   "outputs": [
    {
     "name": "stdout",
     "output_type": "stream",
     "text": [
      "4\n",
      "10\n",
      "-1\n",
      "4\n",
      "10\n"
     ]
    }
   ],
   "source": [
    "print(\"Hello python\".find('o'))                # 4(첫번째 출현)\n",
    "print(\"Hello python\".find('o', 5))             # 10\n",
    "print(\"Hello python\".find('o', 5,8))           # -1(없음)\n",
    "print(\"Hello python\".index('o'))               # 4(첫번째 출현)\n",
    "print(\"Hello python\".index('o', 5))            # 10\n",
    "print(\"Hello python\".index('o', 5,8))          # error"
   ]
  },
  {
   "cell_type": "markdown",
   "metadata": {},
   "source": [
    "3. rfind, rindex : 문자열에 특정문자가 있는지 찾고 인덱스를 반환"
   ]
  },
  {
   "cell_type": "code",
   "execution_count": 32,
   "metadata": {},
   "outputs": [
    {
     "name": "stdout",
     "output_type": "stream",
     "text": [
      "10\n",
      "10\n",
      "-1\n",
      "10\n",
      "10\n"
     ]
    }
   ],
   "source": [
    "print(\"Hello python\".rfind('o'))                # 10(마지막 출현)\n",
    "print(\"Hello python\".rfind('o', 5))             # 10\n",
    "print(\"Hello python\".rfind('o', 5,8))           # -1(없음)\n",
    "print(\"Hello python\".rindex('o'))               # 10(마지막 출현)\n",
    "print(\"Hello python\".rindex('o', 5))            # 10\n",
    "print(\"Hello python\".rindex('o', 5,8))          # error"
   ]
  },
  {
   "cell_type": "markdown",
   "metadata": {},
   "source": [
    "4. upper, lower, swapcase : 대소문자 변환"
   ]
  },
  {
   "cell_type": "code",
   "execution_count": 6,
   "metadata": {},
   "outputs": [
    {
     "name": "stdout",
     "output_type": "stream",
     "text": [
      "PYTHON\n",
      "python\n",
      "pYTHON\n"
     ]
    }
   ],
   "source": [
    "print(\"Python\".upper())             # \"PYTHON\"\n",
    "print(\"Python\".lower())             # \"python\"\n",
    "print(\"Python\".swapcase())          # \"pYTHON\""
   ]
  },
  {
   "cell_type": "markdown",
   "metadata": {},
   "source": [
    "5. capitalize, title : 첫 문자만 대문자로 바꿔주고 나머지는 소문자로 변경(title은 단어단위)"
   ]
  },
  {
   "cell_type": "code",
   "execution_count": 7,
   "metadata": {},
   "outputs": [
    {
     "name": "stdout",
     "output_type": "stream",
     "text": [
      "Hello python\n",
      "Hello Python\n"
     ]
    }
   ],
   "source": [
    "print(\"hello python\".capitalize())          # \"Hello python\"\n",
    "print(\"hello python\".title())               # \"Hello Python\""
   ]
  },
  {
   "cell_type": "markdown",
   "metadata": {},
   "source": [
    "6. lstrip, rstrip, strip : 공백제거"
   ]
  },
  {
   "cell_type": "code",
   "execution_count": 9,
   "metadata": {},
   "outputs": [
    {
     "name": "stdout",
     "output_type": "stream",
     "text": [
      "hello python.     \n",
      "    hello python.\n",
      "hello python.\n"
     ]
    }
   ],
   "source": [
    "print(\"    hello python.     \".lstrip())            # \"hello python.     \"\n",
    "print(\"    hello python.     \".rstrip())            # \"     hello python.\"\n",
    "print(\"    hello python.     \".strip())             # \"hello python.\""
   ]
  },
  {
   "cell_type": "markdown",
   "metadata": {},
   "source": [
    "7. replace : 문자 변경(replace(old, new, count))"
   ]
  },
  {
   "cell_type": "code",
   "execution_count": 10,
   "metadata": {},
   "outputs": [
    {
     "name": "stdout",
     "output_type": "stream",
     "text": [
      "hallo python\n",
      "heelo python\n"
     ]
    }
   ],
   "source": [
    "print(\"hello python\".replace('e', 'a'))             # \"hallo python\"\n",
    "print(\"hello python\".replace('l', 'e', 1))          # \"heelo python\""
   ]
  },
  {
   "cell_type": "markdown",
   "metadata": {},
   "source": [
    "8. join : 문자열 객체를 구분자로 인수(문자열 리스트,튜플)를 문자열로 합침"
   ]
  },
  {
   "cell_type": "code",
   "execution_count": 16,
   "metadata": {},
   "outputs": [
    {
     "name": "stdout",
     "output_type": "stream",
     "text": [
      "abc\n",
      "a_b_c\n"
     ]
    }
   ],
   "source": [
    "print(\"\".join(['a','b','c']))               # 'abc'\n",
    "print(\"_\".join(['a','b','c']))              # 'a_b_c'"
   ]
  },
  {
   "cell_type": "markdown",
   "metadata": {},
   "source": [
    "9. split, partition : 문자열 객체를 특정 구분자를 기준으로 리스트,튜플(구분자 포함)로 변환"
   ]
  },
  {
   "cell_type": "code",
   "execution_count": 25,
   "metadata": {},
   "outputs": [
    {
     "name": "stdout",
     "output_type": "stream",
     "text": [
      "['hello', 'python']\n",
      "('hello', ' ', 'python')\n"
     ]
    }
   ],
   "source": [
    "print('hello python'.split(' '))                # ['hello', python']\n",
    "print('hello python'.partition(' '))            # ('hello',' ', python')"
   ]
  },
  {
   "cell_type": "markdown",
   "metadata": {},
   "source": [
    "10. format : 문자열 포매팅( == f문자열)"
   ]
  },
  {
   "cell_type": "code",
   "execution_count": 24,
   "metadata": {},
   "outputs": [
    {
     "name": "stdout",
     "output_type": "stream",
     "text": [
      "hello python\n",
      "hello python\n"
     ]
    }
   ],
   "source": [
    "lang = 'python'\n",
    "print(\"hello {}\".format(lang))              # 'hello python'\n",
    "print(f\"hello {lang}\")                      # 'hello python'"
   ]
  },
  {
   "cell_type": "markdown",
   "metadata": {},
   "source": [
    "11. splitlines : 라인 단위로 문자열을 나눔"
   ]
  },
  {
   "cell_type": "code",
   "execution_count": 27,
   "metadata": {},
   "outputs": [
    {
     "name": "stdout",
     "output_type": "stream",
     "text": [
      "['Life is too short', 'you need python']\n"
     ]
    }
   ],
   "source": [
    "print(\"\"\"Life is too short\n",
    "you need python\n",
    "\"\"\".splitlines())                           # ['Life is too short', 'you need python']"
   ]
  },
  {
   "cell_type": "markdown",
   "metadata": {},
   "source": [
    "12. startswith, endswith : 특정 단어로 시작, 끝나는지 확인"
   ]
  },
  {
   "cell_type": "code",
   "execution_count": 28,
   "metadata": {},
   "outputs": [
    {
     "name": "stdout",
     "output_type": "stream",
     "text": [
      "True\n",
      "False\n"
     ]
    }
   ],
   "source": [
    "print('hello python'.startswith('h'))               # True\n",
    "print('hello python'.endswith('h'))                 # False"
   ]
  },
  {
   "cell_type": "markdown",
   "metadata": {},
   "source": [
    "13. is___ : 문자열이 조건에 맞는지 검사"
   ]
  },
  {
   "cell_type": "code",
   "execution_count": 41,
   "metadata": {},
   "outputs": [
    {
     "name": "stdout",
     "output_type": "stream",
     "text": [
      "True\n",
      "True\n",
      "True\n",
      "True\n",
      "True\n",
      "False\n",
      "True\n",
      "True\n",
      "True\n",
      "True\n"
     ]
    }
   ],
   "source": [
    "print('Hello'.isalnum())                # True : 알파벳이나 숫자인지 검사\n",
    "print('Hello'.isalpha())                # True : 알파벳인지 검사\n",
    "print('123456'.isdecimal())             # True : 숫자(10진수)인지 검사\n",
    "print('123456'.isdigit())               # True : 숫자(10진수)인지 검사\n",
    "print('123456'.isnumeric())             # True : 숫자인지 검사\n",
    "print('Hello python'.isidentifier())    # False : 식별자로 사용가능한지 검사\n",
    "print('hello'.islower())                # True : 소문자인지 검사\n",
    "print('HELLO'.isupper())                # True : 대문자인지 검사\n",
    "print('            '.isspace())         # True : 공백인지 검사\n",
    "print('Hello Python'.istitle())         # True : title형식인지 검사  "
   ]
  },
  {
   "cell_type": "markdown",
   "metadata": {},
   "source": [
    "* in, not in : 문자열 안에 특정 문자열이 있는지 검사"
   ]
  },
  {
   "cell_type": "code",
   "execution_count": 42,
   "metadata": {},
   "outputs": [
    {
     "name": "stdout",
     "output_type": "stream",
     "text": [
      "True\n",
      "False\n"
     ]
    }
   ],
   "source": [
    "print('Hell' in 'Hello Python')                 # True\n",
    "print(' ' not in 'Hello Python')                # False"
   ]
  },
  {
   "cell_type": "markdown",
   "metadata": {},
   "source": [
    "<h2>List Methods</h2>"
   ]
  },
  {
   "cell_type": "markdown",
   "metadata": {},
   "source": [
    "1. append : 리스트의 끝에 요소 1개 추가"
   ]
  },
  {
   "cell_type": "code",
   "execution_count": 48,
   "metadata": {},
   "outputs": [
    {
     "name": "stdout",
     "output_type": "stream",
     "text": [
      "[1, 2, 3, 4]\n"
     ]
    }
   ],
   "source": [
    "li = [1,2,3]\n",
    "li.append(4)\n",
    "print(li)                 # [1,2,3,4]"
   ]
  },
  {
   "cell_type": "markdown",
   "metadata": {},
   "source": [
    "2. extend : 리스트 이어붙이기 ( + 연산자)"
   ]
  },
  {
   "cell_type": "code",
   "execution_count": 51,
   "metadata": {},
   "outputs": [
    {
     "name": "stdout",
     "output_type": "stream",
     "text": [
      "[1, 2, 3, 4, 5, 6]\n",
      "[1, 2, 3, 7, 8, 9]\n"
     ]
    }
   ],
   "source": [
    "li = [1,2,3]\n",
    "print(li + [4,5,6])         # [1,2,3,4,5,6]\n",
    "\n",
    "li.extend([7,8,9])\n",
    "print(li)                   # [1,2,3,7,8,9]"
   ]
  },
  {
   "cell_type": "markdown",
   "metadata": {},
   "source": [
    "3. count : 리스트 안에 인수의 개수 반환"
   ]
  },
  {
   "cell_type": "code",
   "execution_count": 52,
   "metadata": {},
   "outputs": [
    {
     "name": "stdout",
     "output_type": "stream",
     "text": [
      "2\n"
     ]
    }
   ],
   "source": [
    "print([1,2,3,4,5,5,4,3].count(4))           # 2"
   ]
  },
  {
   "cell_type": "markdown",
   "metadata": {},
   "source": [
    "4. index : 리스트 안에서 인수가 있는 첫번째 인덱스 반환"
   ]
  },
  {
   "cell_type": "code",
   "execution_count": 53,
   "metadata": {},
   "outputs": [
    {
     "name": "stdout",
     "output_type": "stream",
     "text": [
      "2\n"
     ]
    }
   ],
   "source": [
    "print([1,2,3,4,5].index(3))                 # 2"
   ]
  },
  {
   "cell_type": "markdown",
   "metadata": {},
   "source": [
    "5. insert : index의 위치에 요소 삽입(insert(index, obj))"
   ]
  },
  {
   "cell_type": "code",
   "execution_count": 55,
   "metadata": {},
   "outputs": [
    {
     "name": "stdout",
     "output_type": "stream",
     "text": [
      "[1, 2, 10, 3, 4, 5]\n"
     ]
    }
   ],
   "source": [
    "li = [1,2,3,4,5]\n",
    "li.insert(2,10)\n",
    "print(li)                                   # [1,2,10,3,4,5]"
   ]
  },
  {
   "cell_type": "markdown",
   "metadata": {},
   "source": [
    "6. pop : 리스트의 마지막 요소 제거 및 반환(pop(index) : index의 요소 제거 후 반환)"
   ]
  },
  {
   "cell_type": "code",
   "execution_count": 60,
   "metadata": {},
   "outputs": [
    {
     "name": "stdout",
     "output_type": "stream",
     "text": [
      "5\n",
      "3\n",
      "[1, 2, 4]\n"
     ]
    }
   ],
   "source": [
    "li = [1,2,3,4,5]\n",
    "\n",
    "print(li.pop())                             # 5, li = [1,2,3,4]\n",
    "print(li.pop(2))                            # 3, li = [1,2,4]\n",
    "print(li)                                   # [1,2,4]"
   ]
  },
  {
   "cell_type": "markdown",
   "metadata": {},
   "source": [
    "7. remove : 리스트에서 인자 제거"
   ]
  },
  {
   "cell_type": "code",
   "execution_count": 63,
   "metadata": {},
   "outputs": [
    {
     "name": "stdout",
     "output_type": "stream",
     "text": [
      "[1, 3, 4, 5]\n"
     ]
    }
   ],
   "source": [
    "li = [1,2,3,4,5]\n",
    "li.remove(2)\n",
    "print(li)                               # [1,3,4,5]"
   ]
  },
  {
   "cell_type": "markdown",
   "metadata": {},
   "source": [
    "8. reverse : 리스트 객체의 순서 뒤집기"
   ]
  },
  {
   "cell_type": "code",
   "execution_count": 65,
   "metadata": {},
   "outputs": [
    {
     "name": "stdout",
     "output_type": "stream",
     "text": [
      "[5, 4, 3, 2, 1]\n"
     ]
    }
   ],
   "source": [
    "li = [1,2,3,4,5]\n",
    "li.reverse()\n",
    "print(li)                               # [5,4,3,2,1]"
   ]
  },
  {
   "cell_type": "markdown",
   "metadata": {},
   "source": [
    "9. sort : 리스트 정렬(오름차순, 내림차순 : reversed=True, 숫자와 문자각 섞여있으면 에러)<br>\n",
    "-원본을 변경( <==> sorted : 사본 생성)"
   ]
  },
  {
   "cell_type": "code",
   "execution_count": 68,
   "metadata": {},
   "outputs": [
    {
     "name": "stdout",
     "output_type": "stream",
     "text": [
      "[1, 2, 3, 4, 5]\n",
      "[5, 4, 3, 2, 1]\n"
     ]
    }
   ],
   "source": [
    "li = [1,3,2,4,5]\n",
    "li.sort()\n",
    "print(li)                               # [1,2,3,4,5]\n",
    "\n",
    "li = [1,3,2,4,5]\n",
    "li.sort(reverse=True)\n",
    "print(li)                               # [5,4,3,2,1]"
   ]
  },
  {
   "cell_type": "markdown",
   "metadata": {},
   "source": [
    "10. clear : 리스트 비우기"
   ]
  },
  {
   "cell_type": "code",
   "execution_count": 69,
   "metadata": {},
   "outputs": [
    {
     "name": "stdout",
     "output_type": "stream",
     "text": [
      "[]\n"
     ]
    }
   ],
   "source": [
    "li = [1,2,3,4,5]\n",
    "li.clear()\n",
    "print(li)                           # []"
   ]
  },
  {
   "cell_type": "markdown",
   "metadata": {},
   "source": [
    "11. copy : 리스트의 사본 반환(얕은 복사)"
   ]
  },
  {
   "cell_type": "code",
   "execution_count": 72,
   "metadata": {},
   "outputs": [
    {
     "name": "stdout",
     "output_type": "stream",
     "text": [
      "[0, 2, 3, 4, 5] [1, 2, 3, 4, 5] [0, 2, 3, 4, 5]\n"
     ]
    }
   ],
   "source": [
    "li = [1,2,3,4,5]\n",
    "li2 = li.copy()                             # 얕은 복사(원본을 바꿔도 사본은 그대로)\n",
    "li3 = li                                    # 깊은 복사(원본을 바꾸면 사본도 바뀜)\n",
    "li[0] = 0\n",
    "print(li, li2, li3)                         # [0,2,3,4,5], [1,2,3,4,5], [0,2,3,4,5]"
   ]
  },
  {
   "cell_type": "markdown",
   "metadata": {},
   "source": [
    "* List Comprehention : 함수로 리스트를 만드는 간단한 방법<br>\n",
    "[(func) for (var) in (iter) if (boolean exp)]<br>\n",
    "[(a) if (boolean exp) else (b) for (var) in (iter)]<br>"
   ]
  },
  {
   "cell_type": "code",
   "execution_count": 76,
   "metadata": {},
   "outputs": [
    {
     "name": "stdout",
     "output_type": "stream",
     "text": [
      "[1, 4, 9, 16, 25]\n",
      "[4, 16]\n",
      "[1, 4, 27, 16, 125]\n"
     ]
    }
   ],
   "source": [
    "li = [1,2,3,4,5]               \n",
    "print([x**2 for x in li])                                # [1,4,9,16,25]\n",
    "print([x**2 for x in li if x%2 == 0])                    # [4,16]\n",
    "print([x**2 if x%2 == 0 else x**3 for x in li])          # [1,4,27,16,125]\n",
    " "
   ]
  },
  {
   "cell_type": "markdown",
   "metadata": {},
   "source": [
    "<h2>Dictionary Methods</h2>"
   ]
  },
  {
   "cell_type": "markdown",
   "metadata": {},
   "source": [
    "1. keys, values : 딕셔너리의 key, value들을 모아서 반환"
   ]
  },
  {
   "cell_type": "code",
   "execution_count": 79,
   "metadata": {},
   "outputs": [
    {
     "name": "stdout",
     "output_type": "stream",
     "text": [
      "dict_keys(['a', 'b', 'c', 'd'])\n",
      "dict_values([1, 2, 3, 4])\n"
     ]
    }
   ],
   "source": [
    "dict = {'a':1, 'b':2, 'c':3, 'd':4}\n",
    "print(dict.keys())                          # dict_keys(['a','b','c','d'])\n",
    "print(dict.values())                        # dict_values([1,2,3,4]"
   ]
  },
  {
   "cell_type": "markdown",
   "metadata": {},
   "source": [
    "2. items : key-value쌍을 튜플로 묶어 반환"
   ]
  },
  {
   "cell_type": "code",
   "execution_count": 80,
   "metadata": {},
   "outputs": [
    {
     "name": "stdout",
     "output_type": "stream",
     "text": [
      "dict_items([('a', 1), ('b', 2), ('c', 3), ('d', 4)])\n"
     ]
    }
   ],
   "source": [
    "dict = {'a':1, 'b':2, 'c':3, 'd':4}\n",
    "print(dict.items())                          # dict_items([('a',1),('b',2),('c',3),('d',4)])"
   ]
  },
  {
   "cell_type": "markdown",
   "metadata": {},
   "source": [
    "3. clear : 딕셔너리 비우기"
   ]
  },
  {
   "cell_type": "code",
   "execution_count": 82,
   "metadata": {},
   "outputs": [
    {
     "name": "stdout",
     "output_type": "stream",
     "text": [
      "{}\n"
     ]
    }
   ],
   "source": [
    "dict = {'a':1, 'b':2, 'c':3, 'd':4}\n",
    "dict.clear()\n",
    "print(dict)                             # {}"
   ]
  },
  {
   "cell_type": "markdown",
   "metadata": {},
   "source": [
    "4. get : key를 찾아 value를 반환(dict[key]와 동일하지만 key가 없어도 에러가 나지 않음)"
   ]
  },
  {
   "cell_type": "code",
   "execution_count": 84,
   "metadata": {},
   "outputs": [
    {
     "name": "stdout",
     "output_type": "stream",
     "text": [
      "3\n",
      "3\n",
      "None\n"
     ]
    }
   ],
   "source": [
    "dict = {'a':1, 'b':2, 'c':3, 'd':4}\n",
    "print(dict.get('c'))                        # 3\n",
    "print(dict['c'])                            # 3\n",
    "print(dict.get('x'))                        # None\n",
    "print(dict['x'])                            # error"
   ]
  },
  {
   "cell_type": "markdown",
   "metadata": {},
   "source": [
    "5. copy : 딕셔너리 복사(얕은 복사)"
   ]
  },
  {
   "cell_type": "code",
   "execution_count": 86,
   "metadata": {},
   "outputs": [
    {
     "name": "stdout",
     "output_type": "stream",
     "text": [
      "{'a': 1, 'b': 2, 'c': 3, 'd': 4} {'a': 0, 'b': 2, 'c': 3, 'd': 4}\n"
     ]
    }
   ],
   "source": [
    "dict = {'a':1, 'b':2, 'c':3, 'd':4}\n",
    "dict2 = dict.copy()                     # 얕은 복사\n",
    "dict3 = dict                            # 깊은 복사\n",
    "\n",
    "dict['a'] = 0\n",
    "print(dict2, dict3)                     # {'a':1, 'b':2, 'c':3, 'd':4}, {'a':0, 'b':2, 'c':3, 'd':4}"
   ]
  },
  {
   "cell_type": "markdown",
   "metadata": {},
   "source": [
    "6. setdefault : 기본값 처리. 키가 존재하지 않을 경우 기본값을 반환"
   ]
  },
  {
   "cell_type": "code",
   "execution_count": 89,
   "metadata": {},
   "outputs": [
    {
     "name": "stdout",
     "output_type": "stream",
     "text": [
      "1\n",
      "-1\n"
     ]
    }
   ],
   "source": [
    "dict = {'a':1, 'b':2, 'c':3, 'd':4}\n",
    "print(dict.setdefault('a', -1))              # 1\n",
    "print(dict.setdefault('x', -1))              # -1"
   ]
  },
  {
   "cell_type": "markdown",
   "metadata": {},
   "source": [
    "<h2>Set Methods</h2>"
   ]
  },
  {
   "cell_type": "markdown",
   "metadata": {},
   "source": [
    "1. add : 요소 추가"
   ]
  },
  {
   "cell_type": "code",
   "execution_count": 91,
   "metadata": {},
   "outputs": [
    {
     "name": "stdout",
     "output_type": "stream",
     "text": [
      "{1, 2, 3, 4, 5, 6}\n"
     ]
    }
   ],
   "source": [
    "s = {1,2,3,4,5}\n",
    "s.add(6)\n",
    "print(s)                # {1,2,3,4,5,6}"
   ]
  },
  {
   "cell_type": "markdown",
   "metadata": {},
   "source": [
    "2. update : 요소 여러개 추가"
   ]
  },
  {
   "cell_type": "code",
   "execution_count": 92,
   "metadata": {},
   "outputs": [
    {
     "name": "stdout",
     "output_type": "stream",
     "text": [
      "{1, 2, 3, 4, 5, 6, 7, 8}\n"
     ]
    }
   ],
   "source": [
    "s = {1,2,3,4,5}\n",
    "s.update([6,7,8])\n",
    "print(s)                # {1,2,3,4,5,6,7,8}"
   ]
  },
  {
   "cell_type": "markdown",
   "metadata": {},
   "source": [
    "3. remove, discard : 요소 제거(제거하려는 요소가 없을 때 remove는 에러발생)"
   ]
  },
  {
   "cell_type": "code",
   "execution_count": 96,
   "metadata": {},
   "outputs": [
    {
     "name": "stdout",
     "output_type": "stream",
     "text": [
      "{2, 3, 4, 5}\n",
      "{3, 4, 5}\n",
      "{3, 4, 5}\n"
     ]
    }
   ],
   "source": [
    "s = {1,2,3,4,5}\n",
    "s.remove(1)                 \n",
    "print(s)                    # s = {2,3,4,5}\n",
    "\n",
    "s.discard(2)                \n",
    "print(s)                    # s = {3,4,5}\n",
    "\n",
    "s.discard(1)                \n",
    "print(s)                    # s = {3,4,5}\n",
    "\n",
    "s.remove(1)                 # error"
   ]
  },
  {
   "cell_type": "markdown",
   "metadata": {},
   "source": [
    "4. pop : 첫번째 요소(임의의 요소)를 반환한 후 제거"
   ]
  },
  {
   "cell_type": "code",
   "execution_count": 104,
   "metadata": {},
   "outputs": [
    {
     "name": "stdout",
     "output_type": "stream",
     "text": [
      "1\n"
     ]
    }
   ],
   "source": [
    "s = {1,2,3,4,5}\n",
    "print(s.pop())              # 1"
   ]
  },
  {
   "cell_type": "markdown",
   "metadata": {},
   "source": [
    "5. clear : 모든 요소 제거"
   ]
  },
  {
   "cell_type": "code",
   "execution_count": 105,
   "metadata": {},
   "outputs": [
    {
     "name": "stdout",
     "output_type": "stream",
     "text": [
      "set()\n"
     ]
    }
   ],
   "source": [
    "s = {1,2,3,4,5}\n",
    "s.clear()\n",
    "print(s)                # {}(set)"
   ]
  }
 ],
 "metadata": {
  "kernelspec": {
   "display_name": "Python 3.9.6 64-bit",
   "language": "python",
   "name": "python3"
  },
  "language_info": {
   "codemirror_mode": {
    "name": "ipython",
    "version": 3
   },
   "file_extension": ".py",
   "mimetype": "text/x-python",
   "name": "python",
   "nbconvert_exporter": "python",
   "pygments_lexer": "ipython3",
   "version": "3.9.6"
  },
  "orig_nbformat": 4,
  "vscode": {
   "interpreter": {
    "hash": "31f2aee4e71d21fbe5cf8b01ff0e069b9275f58929596ceb00d14d90e3e16cd6"
   }
  }
 },
 "nbformat": 4,
 "nbformat_minor": 2
}
