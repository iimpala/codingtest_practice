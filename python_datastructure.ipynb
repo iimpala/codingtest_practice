{
 "cells": [
  {
   "cell_type": "markdown",
   "metadata": {},
   "source": [
    "<h1>파이썬 자료구조 정리</h1>"
   ]
  },
  {
   "cell_type": "markdown",
   "metadata": {},
   "source": [
    "<h2>스택</h2>"
   ]
  },
  {
   "cell_type": "markdown",
   "metadata": {},
   "source": [
    "1. 초기화   -->     리스트 생성\n",
    "2. push     -->     append()\n",
    "3. pop      -->     pop()   \n",
    "4. top      -->     stack[-1]"
   ]
  },
  {
   "cell_type": "code",
   "execution_count": 2,
   "metadata": {},
   "outputs": [
    {
     "name": "stdout",
     "output_type": "stream",
     "text": [
      "[3, 6, 9]\n",
      "9\n",
      "6\n"
     ]
    }
   ],
   "source": [
    "stack = []              # init\n",
    "stack.append(3)         # push\n",
    "stack.append(6)\n",
    "stack.append(9)\n",
    "print(stack)            # [3,6,9]\n",
    "print(stack.pop())      # pop, stack = [3,6]\n",
    "print(stack[-1])        # top"
   ]
  },
  {
   "cell_type": "markdown",
   "metadata": {},
   "source": [
    "<h2>큐</h2>"
   ]
  },
  {
   "cell_type": "markdown",
   "metadata": {},
   "source": [
    "1. 초기화       -->         리스트 생성\n",
    "2. push         -->         append()\n",
    "3. pop          -->         pop(0) <== O(N) : 비효율적"
   ]
  },
  {
   "cell_type": "code",
   "execution_count": 51,
   "metadata": {},
   "outputs": [
    {
     "name": "stdout",
     "output_type": "stream",
     "text": [
      "[3, 6, 9]\n",
      "3\n",
      "9\n"
     ]
    }
   ],
   "source": [
    "queue = []              # init\n",
    "queue.append(3)         # push\n",
    "queue.append(6)\n",
    "queue.append(9)\n",
    "print(queue)            # [3,6,9]\n",
    "print(queue.pop(0))     # pop, queue = [6,9]"
   ]
  },
  {
   "cell_type": "markdown",
   "metadata": {},
   "source": [
    "<h2>해시 테이블</h2>"
   ]
  },
  {
   "cell_type": "markdown",
   "metadata": {},
   "source": [
    "* 딕셔너리 = 해시 테이블"
   ]
  },
  {
   "cell_type": "code",
   "execution_count": 73,
   "metadata": {},
   "outputs": [
    {
     "name": "stdout",
     "output_type": "stream",
     "text": [
      "10\n",
      "20\n"
     ]
    }
   ],
   "source": [
    "hash = {}               # init\n",
    "hash['key1'] = 10       # push\n",
    "hash['key2'] = 20\n",
    "print(hash['key1'])     # get\n",
    "print(hash.get('key2'))"
   ]
  },
  {
   "cell_type": "markdown",
   "metadata": {},
   "source": [
    "<h2>힙</h2>"
   ]
  },
  {
   "cell_type": "markdown",
   "metadata": {},
   "source": [
    "1. 초기화 --> 리스트 생성\n",
    "2. i번째 노드의 left child --> 2i\n",
    "3. i번째 노드의 right child --> 2i + 1\n",
    "4. i번째 노드의 parent --> i/2\n",
    "5. insert --> append, 부모보다 값이 크면 swap(max heap)\n",
    "6. pop --> 마지막 값을 root로 올리고 child와 비교하여 정렬"
   ]
  },
  {
   "cell_type": "code",
   "execution_count": 54,
   "metadata": {},
   "outputs": [],
   "source": [
    "class Heap:\n",
    "    def __init__(self):\n",
    "        self.heap = []\n",
    "        self.heap.append(None)                              # index는 1번부터 시작\n",
    "    \n",
    "\n",
    "    def check_swap_up(self,idx):   \n",
    "        if idx <= 1:                                        # parent가 없으면\n",
    "            return False                                    # False 반환\n",
    "        parent_idx = idx // 2                               # parent index 계산\n",
    "        if self.heap[idx] > self.heap[parent_idx]:          # 부모 노드보다 값이 크면\n",
    "            return True                                     # True 반환(swap o)\n",
    "        else:                                               # 부모 노드보다 값이 작으면\n",
    "            return False                                    # False 반환(swap x)\n",
    "\n",
    "    def insert(self, data):\n",
    "        self.heap.append(data)                              # 힙의 맨 뒤에 추가\n",
    "        idx = len(self.heap) - 1                            \n",
    "\n",
    "        while self.check_swap_up(idx):                      # 부모 노드보다 값이 크면\n",
    "            parent_idx = idx // 2                           # 두 노드의 위치를 바꿈\n",
    "            self.heap[idx], self.heap[parent_idx] = self.heap[parent_idx], self.heap[idx]   \n",
    "            idx = parent_idx                                \n",
    "        \n",
    "        return True\n",
    "\n",
    "\n",
    "    def check_swap_down(self, idx):\n",
    "        left_idx = idx * 2\n",
    "        right_idx = idx * 2 + 1\n",
    "\n",
    "        if left_idx >= len(self.heap):                      # child가 없으면\n",
    "            return False                                    # False 반환(swap x)\n",
    "\n",
    "        elif right_idx >= len(self.heap):                   # left child만 있으면\n",
    "            if self.heap[left_idx] > self.heap[idx]:        # left child가 부모 노드의 값보다 크면\n",
    "                self.flag = 1\n",
    "                return True                                 # True 반환(swap o)\n",
    "            else:                                           # left child가 부모 노드의 값보다 작으면\n",
    "                return False                                # False 반환(swap x)\n",
    "        \n",
    "        else:                                               # 양쪽 child가 모두 있으면\n",
    "            if self.heap[left_idx] > self.heap[right_idx]:  # left child가 right child보다 크면\n",
    "                if self.heap[left_idx] > self.heap[idx]:    # left child가 부모 노드의 값보다 크면\n",
    "                    self.flag = 1\n",
    "                    return True                             # True 반환(swap o)\n",
    "                else:                                       # left child가 부모 노드의 값보다 작으면\n",
    "                    return False                            # False 반환(swap x)\n",
    "            else:                                           # left child가 right child보다 작으면\n",
    "                if self.heap[right_idx] > self.heap[idx]:   # right child가 부모 노드의 값보다 크면\n",
    "                    self.flag = 2\n",
    "                    return True                             # True 반환(swap o)\n",
    "                else:                                       # right child가 부모 노드의 값보다 작으면\n",
    "                    return False                            # False 반환(swap x)\n",
    "\n",
    "\n",
    "    def pop(self):\n",
    "        if len(self.heap) <= 1:                             # parent가 없으면\n",
    "            return None                                     # None을 반환\n",
    "        \n",
    "        max = self.heap[1]                                  # root의 값을 꺼냄\n",
    "        self.heap[1] = self.heap[-1]                        # 마지막 노드를 root로 올림\n",
    "        del self.heap[-1]                                   # 맨 뒤 노드 삭제\n",
    "        idx = 1\n",
    "        self.flag = 0                                       # 0 = False, 1 = left child와 swap, 2 = right child와 swap\n",
    "\n",
    "        while self.check_swap_down(idx):                    # 자식 노드가 부모 노드보다 값이 크면\n",
    "            left_idx = idx * 2\n",
    "            right_idx = idx * 2 + 1\n",
    "\n",
    "            if self.flag == 1:                              # left child와 swap\n",
    "                self.heap[idx], self.heap[left_idx] = self.heap[left_idx], self.heap[idx]\n",
    "                idx = left_idx\n",
    "            elif self.flag == 2:                            # right child와 swap\n",
    "                self.heap[idx], self.heap[right_idx] = self.heap[right_idx], self.heap[idx]\n",
    "                idx = right_idx\n",
    "        \n",
    "        return max                                          # 아까 꺼낸 root의 값을 반환"
   ]
  },
  {
   "cell_type": "code",
   "execution_count": 67,
   "metadata": {},
   "outputs": [
    {
     "name": "stdout",
     "output_type": "stream",
     "text": [
      "[None, 9, 8, 3, 7, 5, 1, 2, 4, 6, 0]\n",
      "9 8 7 6 5 \n",
      "[None, 4, 2, 3, 1, 0]\n"
     ]
    }
   ],
   "source": [
    "arr = [4,7,3,5,6,1,2,8,9,0]             #                   9\n",
    "heap = Heap()                           #           8               3\n",
    "for x in arr:                           #       7        5      1       2\n",
    "    heap.insert(x)                      #    4     6   0\n",
    "print(heap.heap)\n",
    "\n",
    "for x in range(5):                      #            4\n",
    "    print(heap.pop(), end=' ')          #       2         3\n",
    "print(\"\")                               #   1       0\n",
    "print(heap.heap)"
   ]
  },
  {
   "cell_type": "markdown",
   "metadata": {},
   "source": [
    "<h2>트리</h2>"
   ]
  },
  {
   "cell_type": "markdown",
   "metadata": {},
   "source": [
    "<h3>1. 이진트리</h3>"
   ]
  },
  {
   "cell_type": "markdown",
   "metadata": {},
   "source": [
    "1. Node class : left child, right child, data"
   ]
  },
  {
   "cell_type": "code",
   "execution_count": 12,
   "metadata": {},
   "outputs": [],
   "source": [
    "class Node:\n",
    "    def __init__(self, data):\n",
    "        self.left = None\n",
    "        self.right = None\n",
    "        self.data = data"
   ]
  },
  {
   "cell_type": "code",
   "execution_count": 13,
   "metadata": {},
   "outputs": [],
   "source": [
    "n1 = Node(1)\n",
    "n2 = Node(2)\n",
    "n3 = Node(3)\n",
    "n4 = Node(4)\n",
    "n5 = Node(5)\n",
    "n6 = Node(6)\n",
    "n7 = Node(7)\n",
    "n8 = Node(8)\n",
    "n9 = Node(9)\n",
    "n10 = Node(10)"
   ]
  },
  {
   "cell_type": "markdown",
   "metadata": {},
   "source": [
    "2. Tree class : root를 생성\n",
    "    * 전위 순회(preorder) : root -> left -> right\n",
    "    * 중위 순회(inorder) : left -> root -> right\n",
    "    * 후위 순회(postorder) : left -> right -> root"
   ]
  },
  {
   "cell_type": "code",
   "execution_count": 26,
   "metadata": {},
   "outputs": [],
   "source": [
    "class Tree:\n",
    "    def __init__(self):\n",
    "        self.root = None\n",
    "\n",
    "    def preorder(self, n):\n",
    "        if n != None:\n",
    "            print(n.data,'',end='')                 # root\n",
    "            if n.left: self.preorder(n.left)        # left\n",
    "            if n.right: self.preorder(n.right)      # right\n",
    "    \n",
    "    def inorder(self, n):\n",
    "        if n != None:\n",
    "            if n.left: self.inorder(n.left)         # left\n",
    "            print(n.data,'',end='')                 # root\n",
    "            if n.right: self.inorder(n.right)       # right\n",
    "\n",
    "    def postorder(self, n):\n",
    "        if n != None:\n",
    "            if n.left: self.postorder(n.left)       # left\n",
    "            if n.right: self.postorder(n.right)     # right\n",
    "            print(n.data,'',end='')                 # root"
   ]
  },
  {
   "cell_type": "code",
   "execution_count": 27,
   "metadata": {},
   "outputs": [],
   "source": [
    "tree = Tree()               #                 0                            #             /         \\\n",
    "tree.root = Node(0)         #         1               2\n",
    "tree.root.left = n1         #     3       4       5       6\n",
    "tree.root.right = n2        #   7   8   9   10\n",
    "n1.left = n3\n",
    "n1.right = n4\n",
    "n2.left = n5\n",
    "n2.right = n6\n",
    "n3.left = n7\n",
    "n3.right = n8\n",
    "n4.left = n9\n",
    "n4.right = n10"
   ]
  },
  {
   "cell_type": "code",
   "execution_count": 30,
   "metadata": {},
   "outputs": [
    {
     "name": "stdout",
     "output_type": "stream",
     "text": [
      "0 1 3 7 8 4 9 10 2 5 6 \n",
      "7 3 8 1 9 4 10 0 5 2 6 \n",
      "7 8 3 9 10 4 1 5 6 2 0 "
     ]
    }
   ],
   "source": [
    "tree.preorder(tree.root)        # 0 1 3 7 8 4 9 10 2 5 6\n",
    "print(\"\")\n",
    "tree.inorder(tree.root)         # 7 3 8 1 9 4 10 0 5 2 6\n",
    "print(\"\")\n",
    "tree.postorder(tree.root)       # 7 8 3 9 10 4 1 5 6 2 0"
   ]
  },
  {
   "cell_type": "markdown",
   "metadata": {},
   "source": [
    "<h3>2. 이진 탐색 트리</h3>"
   ]
  },
  {
   "cell_type": "markdown",
   "metadata": {},
   "source": [
    "1. Node class : 위와 동일\n",
    "2. BST class : 이진탐색트리\n",
    "    * insert : 노드 추가\n",
    "    * search : 노드 탐색\n",
    "    * delete : 노드 삭제"
   ]
  },
  {
   "cell_type": "code",
   "execution_count": 46,
   "metadata": {},
   "outputs": [],
   "source": [
    "class BST:\n",
    "    def __init__(self):\n",
    "        self.root = None\n",
    "\n",
    "        \n",
    "    def insert(self, data):\n",
    "        self.root = self._insert_value(self.root, data)\n",
    "        return self.root is not None\n",
    "    \n",
    "    def _insert_value(self, node, data):\n",
    "        if node is None:                                            \n",
    "            node = Node(data)                                       # node를 생성\n",
    "        else:\n",
    "            if data <= node.data:                                   # data가 현재노드의 값보다 작거나 같으면\n",
    "                node.left = self._insert_value(node.left, data)     # left child로 이동\n",
    "            else:                                                   # data가 현재노드의 값보다 크면\n",
    "                node.right = self._insert_value(node.right, data)   # right child로 이동\n",
    "        return node\n",
    "\n",
    "\n",
    "    def search(self, key):\n",
    "        return self._search_value(self.root, key)\n",
    "    \n",
    "    def _search_value(self, root, key):\n",
    "        if root is None or root.data == key:                        # 현재 노드가 찾는 값이면\n",
    "            return root is not None                                 # 현재 노드를 반환\n",
    "        elif key < root.data:                                       # 찾는 값이 현재 노드의 값보다 작으면\n",
    "            return self._search_value(root.left, key)               # left child로 이동\n",
    "        else:                                                       # 찾는 값이 현재 노드의 값보다 크면\n",
    "            return self._search_value(root.right, key)              # right child로 이동\n",
    "        \n",
    "    \n",
    "    def delete(self, key):\n",
    "        self.root, deleted = self._delete_value(self.root, key)\n",
    "        return deleted\n",
    "    \n",
    "    def _delete_value(self, node, key):\n",
    "        if node is None:                                                # 만약 찾는 노드가 없으면\n",
    "            return node, False                                          # False를 반환\n",
    "        \n",
    "        deleted = False\n",
    "        if key == node.data:                                            # 삭제하려는 노드를 찾으면\n",
    "            deleted = True                                              # True를 반환\n",
    "\n",
    "            if node.left and node.right:                                # child가 둘 다 있으면\n",
    "                parent, child = node, node.right                        # 현재 노드의 right child의 left leaf를 찾고\n",
    "                while child.left is not None:\n",
    "                    parent, child = child, child.left                   \n",
    "                \n",
    "                child.left = node.left                                  # 현재 노드로 올림\n",
    "                if parent != node:\n",
    "                    parent.left = child.right                           # 올리기 전에 right child를 parent의 left child로 연결\n",
    "                    child.right = node.right\n",
    "                node = child\n",
    "\n",
    "            elif node.left or node.right:                               # child가 하나만 있으면\n",
    "                node = node.left or node.right                          # child를 현재 노드로 올림\n",
    "            else:                                                       # child가 없으면\n",
    "                node = None                                             # 현재 노드 삭제\n",
    "        \n",
    "        elif key < node.data:                                           # 만약 찾는 값이 현재 값보다 작으면\n",
    "            node.left, deleted = self._delete_value(node.left, key)     # left child로 이동\n",
    "        else:                                                           # 만약 찾는 값이 현재 값보다 크면\n",
    "            node.right, deleted = self._delete_value(node.right, key)   # right child로 이동\n",
    "\n",
    "        return node, deleted\n",
    "\n",
    "    \n",
    "    def preorder(self, n):\n",
    "        if n != None:\n",
    "            print(n.data,'',end='')                 # root\n",
    "            if n.left: self.preorder(n.left)        # left\n",
    "            if n.right: self.preorder(n.right)      # right"
   ]
  },
  {
   "cell_type": "code",
   "execution_count": 50,
   "metadata": {},
   "outputs": [
    {
     "name": "stdout",
     "output_type": "stream",
     "text": [
      "4 3 1 0 2 7 5 6 8 9 \n",
      "True\n",
      "True\n",
      "False\n",
      "True\n",
      "True\n",
      "True\n",
      "False\n",
      "4 1 0 8 5 6 9 "
     ]
    }
   ],
   "source": [
    "# insert\n",
    "arr = [4,7,3,5,6,1,2,8,9,0]                 #               4 \n",
    "bst = BST()                                 #           3       5\n",
    "for x in arr:                               #       1               6\n",
    "    bst.insert(x)                           #   0       2               7\n",
    "                                            #                       8       9\n",
    "bst.preorder(bst.root)\n",
    "print(\"\")\n",
    "# search\n",
    "print(bst.search(3))                        # True(4-3)\n",
    "print(bst.search(8))                        # True(4-5-6-7-8)\n",
    "print(bst.search(10))                       # False(4-5-6-7-9)\n",
    "\n",
    "# delete\n",
    "print(bst.delete(2))                        # True\n",
    "print(bst.delete(3))                        # True\n",
    "print(bst.delete(7))                        # True\n",
    "print(bst.delete(10))                       # False\n",
    "\n",
    "bst.preorder(bst.root)                      #             4\n",
    "                                            #       1             8\n",
    "                                            #   0           5           9\n",
    "                                            #                   6 \n"
   ]
  },
  {
   "cell_type": "markdown",
   "metadata": {},
   "source": [
    "<h2>그래프</h2>"
   ]
  },
  {
   "cell_type": "markdown",
   "metadata": {},
   "source": [
    "1. 인접 행렬 그래프 : 간선의 유무 or 가중치"
   ]
  },
  {
   "cell_type": "code",
   "execution_count": null,
   "metadata": {},
   "outputs": [],
   "source": [
    "graph = [[0,1,1,1],     #       B\n",
    "         [1,0,1,0],     #     /   \\\n",
    "         [1,1,0,1],     #   A   -   C\n",
    "         [1,0,1,0]]     #     \\   /\n",
    "                        #       D"
   ]
  },
  {
   "cell_type": "markdown",
   "metadata": {},
   "source": [
    "2. 인접 리스트 그래프 : 딕셔너리에 key값으로 node, value값으로 리스트"
   ]
  },
  {
   "cell_type": "code",
   "execution_count": null,
   "metadata": {},
   "outputs": [],
   "source": [
    "graph2 = {'A' : ['B', 'C', 'D'],        #           B\n",
    "          'B' : ['A', 'C'],             #         /   \\\n",
    "          'C' : ['A', 'B', 'D'],        #       A   -   C\n",
    "          'D' : ['A', 'C']}             #         \\   /\n",
    "                                        #           D"
   ]
  },
  {
   "cell_type": "markdown",
   "metadata": {},
   "source": [
    "3. BFS : 넓이 우선 탐색\n",
    "4. DFS : 깊이 우선 탐색"
   ]
  },
  {
   "cell_type": "code",
   "execution_count": 74,
   "metadata": {},
   "outputs": [],
   "source": [
    "class Graph:\n",
    "    def __init__(self):\n",
    "        self.graph = {}\n",
    "\n",
    "    def addInfo(self, startV, endVs):\n",
    "        self.graph[startV] = endVs\n",
    "    \n",
    "    def addEdge(self, startV, endV):\n",
    "        self.graph[startV].append(endV)\n",
    "\n",
    "    def addVertex(self, V):\n",
    "        self.graph[V] = []\n",
    "\n",
    "    def bfs(self, startV):\n",
    "        q = [startV]\n",
    "        visited = [startV]\n",
    "        while q:\n",
    "            nowV = q.pop()\n",
    "            for nextV in self.graph[nowV]:\n",
    "                if nextV not in visited:\n",
    "                    q.append(nextV)\n",
    "                    visited.append(nextV)\n",
    "        return visited\n",
    "    \n",
    "    def dfs(self, startV):\n",
    "        s = [startV]\n",
    "        visited = []\n",
    "        while s:\n",
    "            nowV = s.pop()\n",
    "            if nowV not in visited:\n",
    "                visited.append(nowV)\n",
    "                s.extend(self.graph[nowV][::-1])\n",
    "        return visited\n",
    "\n",
    "    def dfs_recursive(self, startV, visited = []):\n",
    "        visited.append(startV)\n",
    "        for nextV in self.graph[startV]:\n",
    "            if nextV not in visited:\n",
    "                self.dfs_recursive(nextV, visited)\n",
    "        return visited"
   ]
  },
  {
   "cell_type": "code",
   "execution_count": 75,
   "metadata": {},
   "outputs": [
    {
     "name": "stdout",
     "output_type": "stream",
     "text": [
      "['A', 'B', 'E', 'I', 'J', 'F', 'H', 'G', 'C', 'D']\n",
      "['A', 'B', 'C', 'D', 'E', 'F', 'G', 'H', 'I', 'J']\n",
      "['A', 'B', 'C', 'D', 'E', 'F', 'G', 'H', 'I', 'J']\n"
     ]
    }
   ],
   "source": [
    "g = Graph()                                     #           A\n",
    "g.addInfo( 'A', ['B',  'E',  'I'])              #        /  |   \\\n",
    "g.addInfo( 'B', ['A',  'C'])                    #       B   E    I\n",
    "g.addInfo( 'C', ['B',  'D'])                    #       |  / \\   | \n",
    "g.addInfo( 'D', ['C'])                          #       C  F H   J\n",
    "g.addInfo( 'E', ['A',  'F',  'H'])              #       |  |\n",
    "g.addInfo( 'F', ['E',  'G'])                    #       D  G\n",
    "g.addInfo( 'G', ['F'])\n",
    "g.addInfo( 'H', ['E'])\n",
    "g.addInfo( 'I', ['A',  'J'])\n",
    "g.addInfo( 'J', ['I'])\n",
    "\n",
    "print(g.bfs('A'))\n",
    "print(g.dfs('A'))\n",
    "print(g.dfs_recursive('A'))"
   ]
  }
 ],
 "metadata": {
  "kernelspec": {
   "display_name": "Python 3.8.9 64-bit",
   "language": "python",
   "name": "python3"
  },
  "language_info": {
   "codemirror_mode": {
    "name": "ipython",
    "version": 3
   },
   "file_extension": ".py",
   "mimetype": "text/x-python",
   "name": "python",
   "nbconvert_exporter": "python",
   "pygments_lexer": "ipython3",
   "version": "3.8.9"
  },
  "orig_nbformat": 4,
  "vscode": {
   "interpreter": {
    "hash": "31f2aee4e71d21fbe5cf8b01ff0e069b9275f58929596ceb00d14d90e3e16cd6"
   }
  }
 },
 "nbformat": 4,
 "nbformat_minor": 2
}
